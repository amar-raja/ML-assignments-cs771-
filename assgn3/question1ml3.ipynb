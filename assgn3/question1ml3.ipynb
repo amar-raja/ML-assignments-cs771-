{
 "cells": [
  {
   "cell_type": "code",
   "execution_count": 1,
   "id": "4699da77",
   "metadata": {},
   "outputs": [],
   "source": [
    "import numpy as np\n",
    "import pandas as pd\n",
    "import matplotlib.pyplot as plt"
   ]
  },
  {
   "cell_type": "code",
   "execution_count": null,
   "id": "b2a726dc",
   "metadata": {},
   "outputs": [],
   "source": []
  },
  {
   "cell_type": "markdown",
   "id": "8206ec6e",
   "metadata": {},
   "source": [
    "## 1a)and 1b)  PERCEPTRON ALGORITHM"
   ]
  },
  {
   "cell_type": "code",
   "execution_count": 2,
   "id": "88183265",
   "metadata": {},
   "outputs": [],
   "source": [
    "class Perceptron:\n",
    "    def __init__(self):\n",
    "        self.W=None\n",
    "    \n",
    "    def train(self,X,y,epoch=10000):\n",
    "        self.W=np.zeros(X.shape[1])    #INITIALIZING WEIGHTS WITH ZEROES\n",
    "        t = 0                         #NUMBER OF TIMES WEIGHT VECTOR UPDATED\n",
    "        for i in range(epoch):\n",
    "            pos=np.random.randint(0,X.shape[0])   #SELECTING A RANDOM ROWDATA\n",
    "            row_x = X[pos]\n",
    "            row_y = y[pos]\n",
    "            \n",
    "            if (np.dot(self.W,row_x)*row_y) <= 0:  #CHECKING TO UPDATE WEIGHTS OR NOT\n",
    "                self.W += row_x*row_y\n",
    "    \n",
    "    def errors(self,X,y):\n",
    "        count = 0         #NUMBER OF PREDICTIONS ARE correct\n",
    "        for i in range(X.shape[0]):\n",
    "            row_x = X[i]\n",
    "            row_y = y[i]\n",
    "            if (self.predict(row_x) * row_y <0):\n",
    "                count += 1\n",
    "#         print(count)\n",
    "        return count/X.shape[0]    \n",
    "            \n",
    "    \n",
    "    \n",
    "    def predict(self,x):\n",
    "        if np.dot(self.W,x)<0:\n",
    "            return -1\n",
    "        return 1\n",
    "                    \n",
    "        "
   ]
  },
  {
   "cell_type": "code",
   "execution_count": null,
   "id": "db554e3f",
   "metadata": {},
   "outputs": [],
   "source": []
  },
  {
   "cell_type": "code",
   "execution_count": null,
   "id": "bfd08cec",
   "metadata": {},
   "outputs": [],
   "source": []
  },
  {
   "cell_type": "code",
   "execution_count": null,
   "id": "f478f766",
   "metadata": {},
   "outputs": [],
   "source": []
  },
  {
   "cell_type": "code",
   "execution_count": null,
   "id": "9e55c9b2",
   "metadata": {},
   "outputs": [],
   "source": []
  },
  {
   "cell_type": "code",
   "execution_count": null,
   "id": "9029f386",
   "metadata": {},
   "outputs": [],
   "source": []
  },
  {
   "cell_type": "markdown",
   "id": "e29ca9f3",
   "metadata": {},
   "source": [
    "### READING DATASET"
   ]
  },
  {
   "cell_type": "code",
   "execution_count": 3,
   "id": "7f1da856",
   "metadata": {},
   "outputs": [],
   "source": [
    "df = pd.read_csv('data_banknote_authentication.txt',names=['Variance','Skewness','Curtosis','Entropy','Class'])"
   ]
  },
  {
   "cell_type": "markdown",
   "id": "f8536cca",
   "metadata": {},
   "source": [
    "#### DATA PREPROCESSING"
   ]
  },
  {
   "cell_type": "code",
   "execution_count": 4,
   "id": "958f17c8",
   "metadata": {},
   "outputs": [
    {
     "data": {
      "text/html": [
       "<div>\n",
       "<style scoped>\n",
       "    .dataframe tbody tr th:only-of-type {\n",
       "        vertical-align: middle;\n",
       "    }\n",
       "\n",
       "    .dataframe tbody tr th {\n",
       "        vertical-align: top;\n",
       "    }\n",
       "\n",
       "    .dataframe thead th {\n",
       "        text-align: right;\n",
       "    }\n",
       "</style>\n",
       "<table border=\"1\" class=\"dataframe\">\n",
       "  <thead>\n",
       "    <tr style=\"text-align: right;\">\n",
       "      <th></th>\n",
       "      <th>Variance</th>\n",
       "      <th>Skewness</th>\n",
       "      <th>Curtosis</th>\n",
       "      <th>Entropy</th>\n",
       "      <th>Class</th>\n",
       "    </tr>\n",
       "  </thead>\n",
       "  <tbody>\n",
       "  </tbody>\n",
       "</table>\n",
       "</div>"
      ],
      "text/plain": [
       "Empty DataFrame\n",
       "Columns: [Variance, Skewness, Curtosis, Entropy, Class]\n",
       "Index: []"
      ]
     },
     "execution_count": 4,
     "metadata": {},
     "output_type": "execute_result"
    }
   ],
   "source": [
    "#CHECKING NA\n",
    "df[df.isna().any(axis=1)]"
   ]
  },
  {
   "cell_type": "markdown",
   "id": "862e42e0",
   "metadata": {},
   "source": [
    "NORMALIZING COLUMNS"
   ]
  },
  {
   "cell_type": "code",
   "execution_count": 5,
   "id": "c55b3df1",
   "metadata": {},
   "outputs": [],
   "source": [
    "df['Variance']=(df['Variance']-df['Variance'].min())/(df['Variance'].max()-df['Variance'].min())\n",
    "\n",
    "df['Skewness']=(df['Skewness']-df['Skewness'].min())/(df['Skewness'].max()-df['Skewness'].min())\n",
    "\n",
    "df['Curtosis']=(df['Curtosis']-df['Curtosis'].min())/(df['Curtosis'].max()-df['Curtosis'].min())\n",
    "\n",
    "df['Entropy']=(df['Entropy']-df['Entropy'].min())/(df['Entropy'].max()-df['Entropy'].min())"
   ]
  },
  {
   "cell_type": "code",
   "execution_count": 6,
   "id": "83929042",
   "metadata": {},
   "outputs": [],
   "source": [
    "df['Class']  = df['Class'].replace(0,-1)"
   ]
  },
  {
   "cell_type": "code",
   "execution_count": 7,
   "id": "11d7b2fc",
   "metadata": {},
   "outputs": [
    {
     "data": {
      "text/html": [
       "<div>\n",
       "<style scoped>\n",
       "    .dataframe tbody tr th:only-of-type {\n",
       "        vertical-align: middle;\n",
       "    }\n",
       "\n",
       "    .dataframe tbody tr th {\n",
       "        vertical-align: top;\n",
       "    }\n",
       "\n",
       "    .dataframe thead th {\n",
       "        text-align: right;\n",
       "    }\n",
       "</style>\n",
       "<table border=\"1\" class=\"dataframe\">\n",
       "  <thead>\n",
       "    <tr style=\"text-align: right;\">\n",
       "      <th></th>\n",
       "      <th>Variance</th>\n",
       "      <th>Skewness</th>\n",
       "      <th>Curtosis</th>\n",
       "      <th>Entropy</th>\n",
       "      <th>Class</th>\n",
       "    </tr>\n",
       "  </thead>\n",
       "  <tbody>\n",
       "    <tr>\n",
       "      <th>0</th>\n",
       "      <td>0.769004</td>\n",
       "      <td>0.839643</td>\n",
       "      <td>0.106783</td>\n",
       "      <td>0.736628</td>\n",
       "      <td>-1</td>\n",
       "    </tr>\n",
       "    <tr>\n",
       "      <th>1</th>\n",
       "      <td>0.835659</td>\n",
       "      <td>0.820982</td>\n",
       "      <td>0.121804</td>\n",
       "      <td>0.644326</td>\n",
       "      <td>-1</td>\n",
       "    </tr>\n",
       "    <tr>\n",
       "      <th>2</th>\n",
       "      <td>0.786629</td>\n",
       "      <td>0.416648</td>\n",
       "      <td>0.310608</td>\n",
       "      <td>0.786951</td>\n",
       "      <td>-1</td>\n",
       "    </tr>\n",
       "    <tr>\n",
       "      <th>3</th>\n",
       "      <td>0.757105</td>\n",
       "      <td>0.871699</td>\n",
       "      <td>0.054921</td>\n",
       "      <td>0.450440</td>\n",
       "      <td>-1</td>\n",
       "    </tr>\n",
       "    <tr>\n",
       "      <th>4</th>\n",
       "      <td>0.531578</td>\n",
       "      <td>0.348662</td>\n",
       "      <td>0.424662</td>\n",
       "      <td>0.687362</td>\n",
       "      <td>-1</td>\n",
       "    </tr>\n",
       "  </tbody>\n",
       "</table>\n",
       "</div>"
      ],
      "text/plain": [
       "   Variance  Skewness  Curtosis   Entropy  Class\n",
       "0  0.769004  0.839643  0.106783  0.736628     -1\n",
       "1  0.835659  0.820982  0.121804  0.644326     -1\n",
       "2  0.786629  0.416648  0.310608  0.786951     -1\n",
       "3  0.757105  0.871699  0.054921  0.450440     -1\n",
       "4  0.531578  0.348662  0.424662  0.687362     -1"
      ]
     },
     "execution_count": 7,
     "metadata": {},
     "output_type": "execute_result"
    }
   ],
   "source": [
    "df.head()"
   ]
  },
  {
   "cell_type": "code",
   "execution_count": 8,
   "id": "29381732",
   "metadata": {},
   "outputs": [],
   "source": [
    "#SHUFFLING THE DATAFRAME\n",
    "df = df.sample(frac = 1)"
   ]
  },
  {
   "cell_type": "code",
   "execution_count": 9,
   "id": "b01eeef3",
   "metadata": {},
   "outputs": [],
   "source": [
    "X=df.iloc[:,:4].values\n",
    "y=df.iloc[:,-1].values"
   ]
  },
  {
   "cell_type": "code",
   "execution_count": 10,
   "id": "85471fec",
   "metadata": {},
   "outputs": [],
   "source": [
    "#CREATING AN OBJECT OF THE CLASS\n",
    "p=Perceptron()\n",
    "p.train(X,y)"
   ]
  },
  {
   "cell_type": "code",
   "execution_count": 11,
   "id": "5b42b30c",
   "metadata": {},
   "outputs": [
    {
     "data": {
      "text/plain": [
       "array([-5.89317369,  0.17318093, -0.67532938,  4.46973282])"
      ]
     },
     "execution_count": 11,
     "metadata": {},
     "output_type": "execute_result"
    }
   ],
   "source": [
    "#WEIGHTS\n",
    "p.W"
   ]
  },
  {
   "cell_type": "code",
   "execution_count": 12,
   "id": "a97e39a0",
   "metadata": {},
   "outputs": [
    {
     "data": {
      "text/plain": [
       "0.12099125364431487"
      ]
     },
     "execution_count": 12,
     "metadata": {},
     "output_type": "execute_result"
    }
   ],
   "source": [
    "p.errors(X,y)"
   ]
  },
  {
   "cell_type": "code",
   "execution_count": null,
   "id": "a42bcf6e",
   "metadata": {},
   "outputs": [],
   "source": []
  },
  {
   "cell_type": "markdown",
   "id": "3db62f95",
   "metadata": {},
   "source": [
    "## 1c)CROSS VALIDATION"
   ]
  },
  {
   "cell_type": "code",
   "execution_count": 13,
   "id": "2a98ada9",
   "metadata": {},
   "outputs": [],
   "source": [
    "#10 FOLD CV\n",
    "k=10\n",
    "fold_size = X.shape[0]//10\n",
    "\n",
    "errors = []    #TEST SET ACCURACIES\n",
    "obj = []       #storing each perceptron object\n",
    "\n",
    "# indices_arr = np.random.permutation(X.shape[0])   #SHUFFLING INDICES\n",
    "indices_arr = np.arange(0,X.shape[0])\n",
    "chunk=np.array_split(indices_arr,k)\n",
    "\n",
    "for i in chunk:\n",
    "    X_train=X[np.delete(indices_arr,i)]\n",
    "    y_train=y[np.delete(indices_arr,i)]\n",
    "    X_test=X[i]\n",
    "    y_test=y[i]\n",
    "    \n",
    "    p=Perceptron()\n",
    "    p.train(X_train,y_train)\n",
    "    errors.append(p.errors(X_test,y_test))\n",
    "    obj.append(p)\n"
   ]
  },
  {
   "cell_type": "code",
   "execution_count": 14,
   "id": "fb1e02af",
   "metadata": {},
   "outputs": [
    {
     "data": {
      "text/plain": [
       "0.11678832116788321"
      ]
     },
     "execution_count": 14,
     "metadata": {},
     "output_type": "execute_result"
    }
   ],
   "source": [
    "min(errors) #MINIMUM ERROR"
   ]
  },
  {
   "cell_type": "code",
   "execution_count": 15,
   "id": "91eac8d8",
   "metadata": {},
   "outputs": [
    {
     "name": "stdout",
     "output_type": "stream",
     "text": [
      "cross-validated test set error is :  0.21860784935999153\n"
     ]
    }
   ],
   "source": [
    "print(\"cross-validated test set error is : \",np.mean(errors))"
   ]
  },
  {
   "cell_type": "code",
   "execution_count": null,
   "id": "8cb3ce64",
   "metadata": {},
   "outputs": [],
   "source": []
  },
  {
   "cell_type": "code",
   "execution_count": 16,
   "id": "df043259",
   "metadata": {},
   "outputs": [],
   "source": [
    "pos=errors.index(min(errors))\n",
    "p=obj[pos]\n",
    "val_x=X[chunk[pos]]\n",
    "val_y=y[chunk[pos]]"
   ]
  },
  {
   "cell_type": "code",
   "execution_count": 17,
   "id": "eaefc29e",
   "metadata": {},
   "outputs": [],
   "source": [
    "# list(zip(val_x,val_y))"
   ]
  },
  {
   "cell_type": "code",
   "execution_count": 18,
   "id": "f07c38be",
   "metadata": {},
   "outputs": [],
   "source": [
    "# val_x,val_y"
   ]
  },
  {
   "cell_type": "markdown",
   "id": "19bd6cc2",
   "metadata": {},
   "source": [
    "## 1d)**F1 Score**"
   ]
  },
  {
   "cell_type": "markdown",
   "id": "3d17306a",
   "metadata": {},
   "source": [
    "$F1 = \\frac{TP}{TP+\\frac{1}{2}(FP+FN)}$"
   ]
  },
  {
   "cell_type": "code",
   "execution_count": 19,
   "id": "448d06b5",
   "metadata": {},
   "outputs": [],
   "source": [
    "def F1score(X,y):\n",
    "    TP=0   #TRUEPOSITIVE\n",
    "    FP=0   ##FALSEPOSITIVE\n",
    "    FN=0   #FALSENEGATIVE\n",
    "    for i in range(X.shape[0]):    \n",
    "        \n",
    "        prediction=p.predict(X[i])      #STORING ORIGINAL CLASSLABEL\n",
    "        if y[i]==1:\n",
    "            if prediction==1:\n",
    "                TP+=1\n",
    "            else:\n",
    "                FN+=1\n",
    "            \n",
    "        else:\n",
    "            if prediction==1:\n",
    "                FP+=1\n",
    "    if TP==FP and TP==FN and TP==0:\n",
    "        return 0    \n",
    "    return TP/(TP+0.5*(FP+FN))"
   ]
  },
  {
   "cell_type": "code",
   "execution_count": 20,
   "id": "e81eb292",
   "metadata": {},
   "outputs": [
    {
     "name": "stdout",
     "output_type": "stream",
     "text": [
      "F1SCORE:  0.8222222222222222\n"
     ]
    }
   ],
   "source": [
    "#TAKING THE OPTIMAL CROSS VALIDATED CHUNK  AND CALCULATING F1SCORE\n",
    "x_val=X[chunk[pos]]\n",
    "y_val=y[chunk[pos]]\n",
    "print('F1SCORE: ',F1score(x_val,y_val))"
   ]
  },
  {
   "cell_type": "code",
   "execution_count": null,
   "id": "f8b8e59b",
   "metadata": {},
   "outputs": [],
   "source": []
  },
  {
   "cell_type": "markdown",
   "id": "8226abcc",
   "metadata": {},
   "source": [
    "$$Bern(\\frac{\\pi_1 + \\pi_2}{2})$$"
   ]
  },
  {
   "cell_type": "code",
   "execution_count": null,
   "id": "d436dba9",
   "metadata": {},
   "outputs": [],
   "source": []
  }
 ],
 "metadata": {
  "kernelspec": {
   "display_name": "Python 3.10.2 64-bit",
   "language": "python",
   "name": "python3"
  },
  "language_info": {
   "codemirror_mode": {
    "name": "ipython",
    "version": 3
   },
   "file_extension": ".py",
   "mimetype": "text/x-python",
   "name": "python",
   "nbconvert_exporter": "python",
   "pygments_lexer": "ipython3",
   "version": "3.10.2"
  },
  "vscode": {
   "interpreter": {
    "hash": "fb0234cea99e51e056e03fdf422b766d0fdf2dc3d703b87d3a50cac370aa7ffe"
   }
  }
 },
 "nbformat": 4,
 "nbformat_minor": 5
}

{
 "cells": [
  {
   "cell_type": "code",
   "execution_count": null,
   "id": "d6785d1c",
   "metadata": {},
   "outputs": [],
   "source": [
    "import random\n",
    "import pandas as pd\n",
    "import warnings\n",
    "warnings.filterwarnings('ignore')"
   ]
  },
  {
   "cell_type": "code",
   "execution_count": null,
   "id": "800cdf57",
   "metadata": {},
   "outputs": [],
   "source": [
    "import numpy as np\n",
    "import numpy.linalg as lin\n",
    "import numpy.random as rnd\n",
    "from matplotlib import pyplot as plt\n",
    "\n",
    "\n",
    "def getFigure( sizex = 7, sizey = 7 ):\n",
    "    fig = plt.figure( figsize = (sizex, sizey) )\n",
    "    return fig\n",
    "\n",
    "def plot2D( X, fig, color = 'r', marker = '+', size = 100, empty = False ):\n",
    "    plt.figure( fig.number )\n",
    "    if empty:\n",
    "        plt.scatter( X[:,0], X[:,1], s = size, facecolors = 'none', edgecolors = color, marker = marker  )\n",
    "    else:\n",
    "        plt.scatter( X[:,0], X[:,1], s = size, c = color, marker = marker )\n",
    "\n",
    "\n",
    "def genCrescentData( d, n, mu, r, flipped = False ):\n",
    "    X = np.vstack( (np.cos( np.linspace( 0, np.pi, n ) ), np.sin( np.linspace( 0, np.pi, n ) ) ) ).T\n",
    "    if flipped:\n",
    "        X[:,1] = -np.abs( X[:,1] )                         \n",
    "    else:\n",
    "        X[:,1] = np.abs( X[:,1] )                          \n",
    "    X = (X * r) + mu\n",
    "    return X\n",
    "\n",
    "def genSphericalData( d, n, mu, r ):\n",
    "    X = rnd.normal( 0, 1, (n, d) )\n",
    "    norms = lin.norm( X, axis = 1 )\n",
    "    X = X / norms[:, np.newaxis]\n",
    "    X = (X * r) + mu\n",
    "    return X"
   ]
  },
  {
   "cell_type": "code",
   "execution_count": null,
   "id": "c5f9f0d9",
   "metadata": {},
   "outputs": [],
   "source": [
    "d = 2\n",
    "n = 200\n",
    "\n",
    "mu1 = np.array( [0,0] )\n",
    "mu2 = np.array( [0,1] )\n",
    "mu3 = np.array( [0,0] )\n",
    "mu4 = np.array( [-3,5] )\n",
    "mu5 = np.array( [3,5] )\n",
    "\n",
    "tmp1 = genCrescentData( d, n, mu1, 1 )\n",
    "tmp2 = genCrescentData( d, n, mu2, 5, flipped = True )\n",
    "tmp3 = genSphericalData( d, n, mu3, 10 )\n",
    "tmp4 = genSphericalData( d, n, mu4, 1 )\n",
    "tmp5 = genSphericalData( d, n, mu5, 1 )\n",
    "X = np.vstack( (tmp1, tmp2, tmp3, tmp4, tmp5) )"
   ]
  },
  {
   "cell_type": "code",
   "execution_count": null,
   "id": "f0b277f8",
   "metadata": {},
   "outputs": [],
   "source": [
    "fig = getFigure( 8, 8 )\n",
    "plot2D( X, fig, size = 50, color = 'b', marker = 'o' )"
   ]
  },
  {
   "cell_type": "code",
   "execution_count": null,
   "id": "bd28d66e",
   "metadata": {},
   "outputs": [],
   "source": []
  },
  {
   "cell_type": "code",
   "execution_count": null,
   "id": "1efe6b1a",
   "metadata": {},
   "outputs": [],
   "source": []
  },
  {
   "cell_type": "markdown",
   "id": "653a0267",
   "metadata": {},
   "source": [
    "### SOLUTION"
   ]
  },
  {
   "cell_type": "code",
   "execution_count": null,
   "id": "4c977f0b",
   "metadata": {},
   "outputs": [],
   "source": [
    "class KMeans:\n",
    "    def __init__(self,n_clusters,max_iter = 300):\n",
    "        self.n_clusters = n_clusters\n",
    "        self.max_iter = max_iter\n",
    "        self.centroids = None\n",
    "    \n",
    "    def fit_predict(self,data,centroids_data=None):\n",
    "        \n",
    "        #RANDOM CLUSTER CENTROIDS SELECTION\n",
    "        \n",
    "        if(centroids_data is None):                    #THIS GETS EXECUTED FOR K-MEANS\n",
    "            random_index = random.sample(range(0 ,data.shape[0]), self.n_clusters)\n",
    "            self.centroids = data[random_index]\n",
    "        else:\n",
    "            self.centroids = centroids_data    #THIS GETS EXECUTED FOR K-MEANS++\n",
    "        \n",
    "        for i in range(self.max_iter):\n",
    "            # ASSIGNING CLUSTERS\n",
    "            cluster_labels = self.assign_clusters(data)\n",
    "            \n",
    "            #STORING OLD CENTROID VALUES\n",
    "            old_centroids = self.centroids\n",
    "        \n",
    "            # CALCULATING CLUSTER CENTROIDS\n",
    "            self.centroids = self.new_centroids(data,cluster_labels)\n",
    "            \n",
    "            # CHECKING CONVERGENCE\n",
    "            if (old_centroids == self.centroids).all():\n",
    "                print('FOR K= {} CONVERGED AT ITER: {}'.format(self.n_clusters,i))\n",
    "                break\n",
    "        \n",
    "        #SSE ERROR WITHIN THE CLUSTER\n",
    "        e = self.sse(data,cluster_labels)\n",
    "        \n",
    "        return cluster_labels,self.centroids,e\n",
    "        \n",
    "    def assign_clusters(self,data):\n",
    "        cluster_label = []\n",
    "        euc_distances = []\n",
    "    \n",
    "        for row_i in data:                       #each row\n",
    "            for centroid in self.centroids:       #with each cluster centroid\n",
    "                euc_distances.append(np.sqrt(np.dot(row_i-centroid,row_i-centroid)))    #euclidean distance\n",
    "            \n",
    "            index_pos = euc_distances.index(min(euc_distances))    #closest centorid\n",
    "            cluster_label.append(index_pos)\n",
    "            euc_distances.clear()    #emptying the list for next row_point\n",
    "            \n",
    "        return np.array(cluster_label)\n",
    "    \n",
    "    def new_centroids(self,data,cluster_label):\n",
    "        \n",
    "        new_centroid_points = []\n",
    "        clust_name = np.unique(cluster_label)    #cluster class labels are stored\n",
    "        \n",
    "        for i in clust_name:\n",
    "            new_centroid_points.append(data[cluster_label == i].mean(axis=0))\n",
    "            \n",
    "        return np.array(new_centroid_points)\n",
    "        \n",
    "    #SUM OF SQUARED ERROR WITHIN CLUSTER FOR ELBOW-METHOD\n",
    "    def sse(self,data,cluster_labels):\n",
    "        ss_eroor = 0\n",
    "        for i in range(data.shape[0]):\n",
    "            curr_center = self.centroids[cluster_labels[i]]\n",
    "#             ss_eroor += np.sqrt((data[i, 0] - curr_center[0]) ** 2 + (data[i, 1] - curr_center[1]) ** 2)\n",
    "            ss_eroor += (data[i, 0] - curr_center[0]) ** 2 + (data[i, 1] - curr_center[1]) ** 2\n",
    "        return ss_eroor\n",
    "        \n",
    "        "
   ]
  },
  {
   "cell_type": "code",
   "execution_count": null,
   "id": "df11e109",
   "metadata": {},
   "outputs": [],
   "source": [
    "#LET NUMBER OF CLUSTERS \"K\"\n",
    "k=5\n",
    "\n",
    "#CREATING AN OBJECT AND PASSING \"K\" number of clusters\n",
    "d1 = KMeans(5)\n",
    "\n",
    "#FITTING AND PREDICTING\n",
    "t1,cent,error = d1.fit_predict(X)               "
   ]
  },
  {
   "cell_type": "code",
   "execution_count": null,
   "id": "a7257e6f",
   "metadata": {},
   "outputs": [],
   "source": [
    "#PLOTTING K_MEANS\n",
    "plt.figure(figsize=(8, 6))\n",
    "plt.scatter(X[:,0], X[:,1], c=t1.astype(float))\n",
    "plt.plot(cent[:,0],cent[:,1],'ko',  markersize=20)\n",
    "plt.title('K-MEANS')\n",
    "plt.xlabel('x')\n",
    "plt.ylabel('y')\n",
    "plt.show()"
   ]
  },
  {
   "cell_type": "code",
   "execution_count": null,
   "id": "ec95c92a",
   "metadata": {},
   "outputs": [],
   "source": []
  },
  {
   "cell_type": "code",
   "execution_count": null,
   "id": "e3aea7bd",
   "metadata": {},
   "outputs": [],
   "source": [
    "# #gaussian\n",
    "# def gaussian_kernel(X):\n",
    "#     '''This function will transform the input data into a kernalized data matrix'''\n",
    "#     g = 1/(np.std(X)**2)\n",
    "#     return np.array([np.exp(-g*np.linalg.norm(X - X[i], axis=1)**2) for i in range(X.shape[0])])\n",
    "\n",
    "# # Transform the input space using kernel function\n",
    "# X_transformed = gaussian_kernel(X)\n",
    "\n",
    "# k=5\n",
    "# d1 = KMeans(5)\n",
    "# t1,cent,error = d1.fit_predict(X_transformed)\n",
    "\n",
    "# # for k=5\n",
    "# # colr_m = ['red','blue','green','yellow','black']\n",
    "# plt.figure(figsize=(8, 6))\n",
    "# plt.scatter(X[:,0], X[:,1], c=t1.astype(float))\n",
    "# # plt.plot(cent[:,0],cent[:,1],'bo',  markersize=20)"
   ]
  },
  {
   "cell_type": "code",
   "execution_count": null,
   "id": "9b2e7902",
   "metadata": {},
   "outputs": [],
   "source": []
  },
  {
   "cell_type": "code",
   "execution_count": null,
   "id": "ba531ce6",
   "metadata": {},
   "outputs": [],
   "source": []
  },
  {
   "cell_type": "code",
   "execution_count": null,
   "id": "a42288c0",
   "metadata": {},
   "outputs": [],
   "source": [
    "# plt.figure(figsize=(8, 6))\n",
    "# plt.scatter(X[t1==0][:,0], X[t1==0][:,1],color='red')\n",
    "# plt.scatter(X[t1==1][:,0], X[t1==1][:,1],color='blue')\n",
    "# plt.scatter(X[t1==2][:,0], X[t1==2][:,1],color='green')\n",
    "# plt.scatter(X[t1==3][:,0], X[t1==3][:,1],color='yellow')\n",
    "# plt.scatter(X[t1==4][:,0], X[t1==4][:,1],color='black')"
   ]
  },
  {
   "cell_type": "code",
   "execution_count": null,
   "id": "c7cad5be",
   "metadata": {},
   "outputs": [],
   "source": []
  },
  {
   "cell_type": "markdown",
   "id": "c2dbc480",
   "metadata": {},
   "source": [
    "# KMeans++"
   ]
  },
  {
   "cell_type": "code",
   "execution_count": null,
   "id": "20ccad0a",
   "metadata": {},
   "outputs": [],
   "source": [
    "# STORING DATA \n",
    "data=X\n",
    "\n",
    "# PICKING FIRST CENTROID RANDOMLY\n",
    "centroid_list = data[random.sample(range(0,data.shape[0]),1)]\n",
    "\n",
    "# CALCULATING NEXT \"K-1\" CENTROIDS\n",
    "for c_id in range(k - 1):\n",
    "    # COLLECTING DISTANCES INTO A LIST\n",
    "    dist = [] \n",
    "    \n",
    "    # ITERATING THROUGH EACH DATA POINT\n",
    "    for row_i in data:                       \n",
    "        # SETTING MAX_DISTANCE AS A HIGH VALUE\n",
    "        d = 10**6           \n",
    "        \n",
    "        #CALCULATING WITH EXISTING CENTROIDS\n",
    "        for i in range(len(centroid_list)):\n",
    "            temp = np.sqrt(np.dot(row_i-centroid_list[i],row_i-centroid_list[i]))                #try without sqrt\n",
    "            d = min(d,temp)                        # WE NEED DISTANCE OF A POINT  WITH THE NEAREST CENTROID\n",
    "        dist.append(d)\n",
    "    \n",
    "    #SELECTING MAX_DISTANCE POINT AS CENTROID AS IT WILL UNANIMOUSLY HAVE HIGH POROBABILITY\n",
    "    next_centroid = data[np.argmax(dist), :]\n",
    "    \n",
    "    #APPENDING NEW CENTROID TO THE CENTROID LIST\n",
    "    centroid_list = np.append(arr=centroid_list,values=[next_centroid],axis=0)\n",
    "    \n",
    "    #EMPTYING THE DISTANCE LIST FOR NEXT CENTROID SELECTION\n",
    "    dist = []\n",
    "                \n",
    "    "
   ]
  },
  {
   "cell_type": "code",
   "execution_count": null,
   "id": "34df35a4",
   "metadata": {},
   "outputs": [],
   "source": [
    "#forkmeans++\n",
    "d1 = KMeans(5)\n",
    "t1,cent,error = d1.fit_predict(X,centroid_list)"
   ]
  },
  {
   "cell_type": "code",
   "execution_count": null,
   "id": "5220c6a2",
   "metadata": {},
   "outputs": [],
   "source": [
    "# for k=5\n",
    "colr_m = np.array(['red','blue','green','yellow','black'])\n",
    "plt.figure(figsize=(8, 6))\n",
    "# plt.scatter(X[:,0], X[:,1], c=t1.astype(float))\n",
    "plt.scatter(X[:,0], X[:,1], c=colr_m[t1])\n",
    "\n",
    "# for i in range(len(colr_m)):\n",
    "#     plt.plot(cent[i,0],cent[i,1],colr_m[i],  markersize=20)\n",
    "plt.plot(cent[:,0],cent[:,1],'mo',markersize=20)\n",
    "plt.title('K-MEANS++')\n",
    "plt.xlabel('x')\n",
    "plt.ylabel('y')\n",
    "plt.show()"
   ]
  },
  {
   "cell_type": "code",
   "execution_count": null,
   "id": "bda5dbac",
   "metadata": {},
   "outputs": [],
   "source": []
  },
  {
   "cell_type": "code",
   "execution_count": null,
   "id": "6b5c965b",
   "metadata": {},
   "outputs": [],
   "source": []
  },
  {
   "cell_type": "markdown",
   "id": "922876de",
   "metadata": {},
   "source": [
    "## ELBOW-METHOD"
   ]
  },
  {
   "cell_type": "code",
   "execution_count": null,
   "id": "bdd14c90",
   "metadata": {},
   "outputs": [],
   "source": [
    "#CALCULATING SSE error FOR \"K\" CLUSTERs FOR DIFFERENT K VALUES\n",
    "list_of_errors = []\n",
    "\n",
    "#DIFFERENT K VALUES\n",
    "for c in range(2,10):\n",
    "    d1 = KMeans(c)\n",
    "    t1,c,error = d1.fit_predict(X)\n",
    "    list_of_errors.append(error)\n",
    "    \n",
    "    "
   ]
  },
  {
   "cell_type": "code",
   "execution_count": null,
   "id": "6a85c9b0",
   "metadata": {},
   "outputs": [],
   "source": [
    "fig, b = plt.subplots(figsize=(16,6))\n",
    "plt.plot(list(range(2, 10)),list_of_errors,linestyle='--', marker='o', color='b')\n",
    "b.set_title('ELBOW METHOD')\n",
    "plt.xlabel('NUMBER OF CLUSTERS')\n",
    "plt.ylabel('SUM OF SQUARED ERROR')\n",
    "plt.show()"
   ]
  },
  {
   "cell_type": "code",
   "execution_count": null,
   "id": "bf82eb26",
   "metadata": {},
   "outputs": [],
   "source": []
  },
  {
   "cell_type": "markdown",
   "id": "3eaa8261",
   "metadata": {},
   "source": [
    "## GAUSSAIN KERNEL"
   ]
  },
  {
   "cell_type": "code",
   "execution_count": null,
   "id": "15d1c69e",
   "metadata": {},
   "outputs": [],
   "source": [
    "# GAUSSIAN KERNEL\n",
    "def gaussian_kernel(X):\n",
    "    #This function will transform the input data into a kernalized data matrix\n",
    "    \n",
    "    #RBF KERNEL calculation\n",
    "    g = 1/(np.std(X)**2)\n",
    "    return np.array([np.exp(-g*np.linalg.norm(X - X[i], axis=1)**2) for i in range(X.shape[0])])"
   ]
  },
  {
   "cell_type": "code",
   "execution_count": null,
   "id": "62213965",
   "metadata": {},
   "outputs": [],
   "source": [
    "# Transform the input space using kernel function\n",
    "X_transformed = gaussian_kernel(X)"
   ]
  },
  {
   "cell_type": "code",
   "execution_count": null,
   "id": "cede42d5",
   "metadata": {},
   "outputs": [],
   "source": [
    "k=5\n",
    "d1 = KMeans(5)\n",
    "t1,cent,error = d1.fit_predict(X_transformed)\n",
    "\n",
    "# for k=5\n",
    "# colr_m = ['red','blue','green','yellow','black']\n",
    "plt.figure(figsize=(8, 6))\n",
    "plt.scatter(X[:,0], X[:,1], c=t1.astype(float))\n",
    "# plt.plot(cent[:,0],cent[:,1],'bo',  markersize=20)"
   ]
  },
  {
   "cell_type": "code",
   "execution_count": null,
   "id": "421e7922",
   "metadata": {},
   "outputs": [],
   "source": []
  },
  {
   "cell_type": "code",
   "execution_count": null,
   "id": "d774979b",
   "metadata": {},
   "outputs": [],
   "source": []
  },
  {
   "cell_type": "code",
   "execution_count": null,
   "id": "3de40685",
   "metadata": {},
   "outputs": [],
   "source": []
  },
  {
   "cell_type": "code",
   "execution_count": null,
   "id": "f67c8564",
   "metadata": {},
   "outputs": [],
   "source": [
    "\n",
    "        "
   ]
  },
  {
   "cell_type": "code",
   "execution_count": null,
   "id": "8cb48f13",
   "metadata": {},
   "outputs": [],
   "source": []
  },
  {
   "cell_type": "code",
   "execution_count": null,
   "id": "54bb9073",
   "metadata": {},
   "outputs": [],
   "source": []
  },
  {
   "cell_type": "code",
   "execution_count": null,
   "id": "e23a1c88",
   "metadata": {},
   "outputs": [],
   "source": []
  },
  {
   "cell_type": "code",
   "execution_count": null,
   "id": "d3b311a0",
   "metadata": {},
   "outputs": [],
   "source": []
  },
  {
   "cell_type": "code",
   "execution_count": null,
   "id": "b773b031",
   "metadata": {},
   "outputs": [],
   "source": []
  },
  {
   "cell_type": "code",
   "execution_count": null,
   "id": "2c31c097",
   "metadata": {},
   "outputs": [],
   "source": [
    "mllml"
   ]
  },
  {
   "cell_type": "code",
   "execution_count": null,
   "id": "a61a2c0d",
   "metadata": {},
   "outputs": [],
   "source": []
  },
  {
   "cell_type": "code",
   "execution_count": null,
   "id": "f7ba4232",
   "metadata": {},
   "outputs": [],
   "source": []
  },
  {
   "cell_type": "code",
   "execution_count": null,
   "id": "b1be5d36",
   "metadata": {},
   "outputs": [],
   "source": []
  },
  {
   "cell_type": "code",
   "execution_count": null,
   "id": "ee7f82c1",
   "metadata": {},
   "outputs": [],
   "source": [
    "import numpy as np\n",
    "from matplotlib import pyplot as plt\n",
    "from matplotlib.pyplot import cm\n",
    "import time"
   ]
  },
  {
   "cell_type": "code",
   "execution_count": null,
   "id": "ea79d197",
   "metadata": {},
   "outputs": [],
   "source": [
    "# filePath1 = \"test1_data.txt\"\n",
    "# filePath2 = \"test2_data.txt\"\n",
    "# dataTesting1 = np.loadtxt(filePath1, delimiter=\" \")\n",
    "# dataTesting2 = np.loadtxt(filePath2, delimiter=\" \")\n",
    "\n",
    "#params\n",
    "k = 5 #number of cluster\n",
    "var = 2 #var in RFB kernel\n",
    "iterationCounter = 0\n",
    "# input = dataTesting2\n",
    "initMethod = \"byOriginDistance\" #options = random, byCenterDistance, byOriginDistance\n",
    "# initMethod = \"random\""
   ]
  },
  {
   "cell_type": "code",
   "execution_count": null,
   "id": "44a87f57",
   "metadata": {},
   "outputs": [],
   "source": [
    "def initCluster(dataInput, nCluster, method):\n",
    "    listClusterMember = [[] for i in range(nCluster)]\n",
    "    if (method == \"random\"):\n",
    "        shuffledDataIn = dataInput\n",
    "        np.random.shuffle(shuffledDataIn)\n",
    "        for i in range(0, dataInput.shape[0]):\n",
    "            listClusterMember[i%nCluster].append(dataInput[i,:])\n",
    "    if (method == \"byCenterDistance\"):\n",
    "        center = np.matrix(np.mean(dataInput, axis=0))\n",
    "        repeatedCent = np.repeat(center, dataInput.shape[0], axis=0)\n",
    "        deltaMatrix = abs(np.subtract(dataInput, repeatedCent))\n",
    "        euclideanMatrix = np.sqrt(np.square(deltaMatrix).sum(axis=1))\n",
    "        dataNew = np.array(np.concatenate((euclideanMatrix, dataInput), axis=1))\n",
    "        dataNew = dataNew[np.argsort(dataNew[:, 0])]\n",
    "        dataNew = np.delete(dataNew, 0, 1)\n",
    "        divider = dataInput.shape[0]/nCluster\n",
    "        for i in range(0, dataInput.shape[0]):\n",
    "            listClusterMember[np.int(np.floor(i/divider))].append(dataNew[i,:])\n",
    "    if (method == \"byOriginDistance\"):\n",
    "        origin = np.matrix([[0,0]])\n",
    "        repeatedCent = np.repeat(origin, dataInput.shape[0], axis=0)\n",
    "        deltaMatrix = abs(np.subtract(dataInput, repeatedCent))\n",
    "        euclideanMatrix = np.sqrt(np.square(deltaMatrix).sum(axis=1))\n",
    "        dataNew = np.array(np.concatenate((euclideanMatrix, dataInput), axis=1))\n",
    "        dataNew = dataNew[np.argsort(dataNew[:, 0])]\n",
    "        dataNew = np.delete(dataNew, 0, 1)\n",
    "        divider = dataInput.shape[0]/nCluster\n",
    "        for i in range(0, dataInput.shape[0]):\n",
    "            listClusterMember[np.int(np.floor(i/divider))].append(dataNew[i,:])\n",
    "\n",
    "    return listClusterMember\n",
    "\n",
    "def RbfKernel(data1, data2, sigma):\n",
    "    delta =abs(np.subtract(data1, data2))\n",
    "    squaredEuclidean = (np.square(delta).sum(axis=1))\n",
    "    result = np.exp(-(squaredEuclidean)/(2*sigma**2))\n",
    "    return result\n",
    "\n",
    "def thirdTerm(memberCluster):\n",
    "    result = 0\n",
    "    for i in range(0, memberCluster.shape[0]):\n",
    "        for j in range(0, memberCluster.shape[0]):\n",
    "            result = result + RbfKernel(memberCluster[i, :], memberCluster[j, :], var)\n",
    "    result = result / (memberCluster.shape[0] ** 2)\n",
    "    return result\n",
    "\n",
    "def secondTerm(dataI, memberCluster):\n",
    "    result = 0\n",
    "    for i in range(0, memberCluster.shape[0]):\n",
    "        result = result + RbfKernel(dataI, memberCluster[i,:], var)\n",
    "    result = 2 * result / memberCluster.shape[0]\n",
    "    return result\n",
    "\n",
    "def plotResult(listClusterMembers, centroid, iteration, converged):\n",
    "    n = listClusterMembers.__len__()\n",
    "    color = iter(cm.rainbow(np.linspace(0, 1, n)))\n",
    "    plt.figure(\"result\")\n",
    "    plt.clf()\n",
    "    plt.title(\"iteration-\" + iteration)\n",
    "    for i in range(n):\n",
    "        col = next(color)\n",
    "        memberCluster = np.asmatrix(listClusterMembers[i])\n",
    "        plt.scatter(np.ravel(memberCluster[:, 0]), np.ravel(memberCluster[:, 1]), marker=\".\", s=100, c=col)\n",
    "    color = iter(cm.rainbow(np.linspace(0, 1, n)))\n",
    "    for i in range(n):\n",
    "        col = next(color)\n",
    "        plt.scatter(np.ravel(centroid[i, 0]), np.ravel(centroid[i, 1]), marker=\"*\", s=400, c=col, edgecolors=\"black\")\n",
    "    if (converged == 0):\n",
    "        plt.ion()\n",
    "        plt.show()\n",
    "        plt.pause(0.1)\n",
    "    if (converged == 1):\n",
    "        plt.show(block=True)\n",
    "\n",
    "def kMeansKernel(data, initMethod):\n",
    "    global iterationCounter\n",
    "    memberInit = initCluster(data, k, initMethod)\n",
    "    nCluster = memberInit.__len__()\n",
    "    #looping until converged\n",
    "    while(True):\n",
    "        # calculate centroid, only for visualization purpose\n",
    "        centroid = np.ndarray(shape=(0, data.shape[1]))\n",
    "        for i in range(0, nCluster):\n",
    "            memberCluster = np.asmatrix(memberInit[i])\n",
    "            centroidCluster = memberCluster.mean(axis=0)\n",
    "            centroid = np.concatenate((centroid, centroidCluster), axis=0)\n",
    "        #plot result in every iteration\n",
    "        print(\"ITERATION : \",iterationCounter)\n",
    "#         plotResult(memberInit, centroid, str(iterationCounter), 0)\n",
    "#         oldTime = np.around(time.time(), decimals=0)\n",
    "        kernelResultClusterAllCluster = np.ndarray(shape=(data.shape[0], 0))\n",
    "        #assign data to cluster whose centroid is the closest one\n",
    "        for i in range(0, nCluster):#repeat for all cluster\n",
    "            term3 = thirdTerm(np.asmatrix(memberInit[i]))\n",
    "            matrixTerm3 = np.repeat(term3, data.shape[0], axis=0); matrixTerm3 = np.asmatrix(matrixTerm3)\n",
    "            matrixTerm2 = np.ndarray(shape=(0,1))\n",
    "            for j in range(0, data.shape[0]): #repeat for all data\n",
    "                term2 = secondTerm(data[j,:], np.asmatrix(memberInit[i]))\n",
    "                matrixTerm2 = np.concatenate((matrixTerm2, term2), axis=0)\n",
    "            matrixTerm2 = np.asmatrix(matrixTerm2)\n",
    "            kernelResultClusterI = np.add(-1*matrixTerm2, matrixTerm3)\n",
    "            kernelResultClusterAllCluster =\\\n",
    "                np.concatenate((kernelResultClusterAllCluster, kernelResultClusterI), axis=1)\n",
    "        clusterMatrix = np.ravel(np.argmin(np.matrix(kernelResultClusterAllCluster), axis=1))\n",
    "        listClusterMember = [[] for l in range(k)]\n",
    "        for i in range(0, data.shape[0]):#assign data to cluster regarding cluster matrix\n",
    "            listClusterMember[np.asscalar(clusterMatrix[i])].append(data[i,:])\n",
    "        for i in range(0, nCluster):\n",
    "            print(\"Cluster member numbers-\", i, \": \", listClusterMember[0].__len__())\n",
    "        #break when converged\n",
    "        boolAcc = True\n",
    "        for m in range(0, nCluster):\n",
    "            prev = np.asmatrix(memberInit[m])\n",
    "            current = np.asmatrix(listClusterMember[m])\n",
    "            if (prev.shape[0] != current.shape[0]):\n",
    "                boolAcc = False\n",
    "                break\n",
    "            if (prev.shape[0] == current.shape[0]):\n",
    "                boolPerCluster = (prev == current).all()\n",
    "            boolAcc = boolAcc and boolPerCluster\n",
    "            if(boolAcc==False):\n",
    "                break\n",
    "        if(boolAcc==True):\n",
    "            break\n",
    "        iterationCounter += 1\n",
    "        #update new cluster member\n",
    "        memberInit = listClusterMember\n",
    "#         newTime = np.around(time.time(), decimals=0)\n",
    "#         print(\"iteration-\", iterationCounter, \": \", newTime - oldTime, \" seconds\")\n",
    "    return listClusterMember, centroid"
   ]
  },
  {
   "cell_type": "code",
   "execution_count": null,
   "id": "3d1e0c71",
   "metadata": {},
   "outputs": [],
   "source": [
    "clusterResult, centroid = kMeansKernel(X, initMethod)"
   ]
  },
  {
   "cell_type": "code",
   "execution_count": null,
   "id": "a777d581",
   "metadata": {},
   "outputs": [],
   "source": [
    "plotResult(clusterResult, centroid, str(iterationCounter) + ' (converged)', 1)\n",
    "print(\"converged!\")"
   ]
  },
  {
   "cell_type": "code",
   "execution_count": null,
   "id": "4b5fd4c1",
   "metadata": {},
   "outputs": [],
   "source": []
  },
  {
   "cell_type": "code",
   "execution_count": null,
   "id": "b3536b93",
   "metadata": {},
   "outputs": [],
   "source": []
  },
  {
   "cell_type": "code",
   "execution_count": null,
   "id": "51611e52",
   "metadata": {},
   "outputs": [],
   "source": []
  },
  {
   "cell_type": "code",
   "execution_count": null,
   "id": "1a20968d",
   "metadata": {},
   "outputs": [],
   "source": []
  },
  {
   "cell_type": "code",
   "execution_count": null,
   "id": "41450bb7",
   "metadata": {},
   "outputs": [],
   "source": []
  },
  {
   "cell_type": "code",
   "execution_count": null,
   "id": "afa6cf33",
   "metadata": {},
   "outputs": [],
   "source": []
  },
  {
   "cell_type": "code",
   "execution_count": null,
   "id": "68486d4b",
   "metadata": {},
   "outputs": [],
   "source": []
  },
  {
   "cell_type": "code",
   "execution_count": null,
   "id": "e6fbf7ae",
   "metadata": {},
   "outputs": [],
   "source": []
  },
  {
   "cell_type": "code",
   "execution_count": null,
   "id": "6122bf95",
   "metadata": {},
   "outputs": [],
   "source": []
  },
  {
   "cell_type": "code",
   "execution_count": null,
   "id": "e712e4a2",
   "metadata": {},
   "outputs": [],
   "source": []
  },
  {
   "cell_type": "code",
   "execution_count": null,
   "id": "1a8f6fbb",
   "metadata": {},
   "outputs": [],
   "source": []
  },
  {
   "cell_type": "code",
   "execution_count": null,
   "id": "2a040296",
   "metadata": {},
   "outputs": [],
   "source": []
  },
  {
   "cell_type": "code",
   "execution_count": null,
   "id": "c7afcb99",
   "metadata": {},
   "outputs": [],
   "source": []
  },
  {
   "cell_type": "code",
   "execution_count": null,
   "id": "d9adb8a2",
   "metadata": {},
   "outputs": [],
   "source": []
  },
  {
   "cell_type": "code",
   "execution_count": null,
   "id": "ce3fc5a4",
   "metadata": {},
   "outputs": [],
   "source": []
  },
  {
   "cell_type": "code",
   "execution_count": null,
   "id": "e63d6612",
   "metadata": {},
   "outputs": [],
   "source": []
  },
  {
   "cell_type": "code",
   "execution_count": null,
   "id": "e70441db",
   "metadata": {},
   "outputs": [],
   "source": []
  },
  {
   "cell_type": "code",
   "execution_count": null,
   "id": "e90b1e00",
   "metadata": {},
   "outputs": [],
   "source": []
  },
  {
   "cell_type": "code",
   "execution_count": null,
   "id": "6dd7b7e0",
   "metadata": {},
   "outputs": [],
   "source": []
  },
  {
   "cell_type": "code",
   "execution_count": null,
   "id": "64e91b3e",
   "metadata": {},
   "outputs": [],
   "source": []
  },
  {
   "cell_type": "code",
   "execution_count": null,
   "id": "740d30a9",
   "metadata": {},
   "outputs": [],
   "source": []
  },
  {
   "cell_type": "code",
   "execution_count": null,
   "id": "67d67e49",
   "metadata": {},
   "outputs": [],
   "source": []
  },
  {
   "cell_type": "code",
   "execution_count": null,
   "id": "34bf7787",
   "metadata": {},
   "outputs": [],
   "source": []
  },
  {
   "cell_type": "code",
   "execution_count": null,
   "id": "e816f9d2",
   "metadata": {},
   "outputs": [],
   "source": []
  },
  {
   "cell_type": "code",
   "execution_count": null,
   "id": "86d5e199",
   "metadata": {},
   "outputs": [],
   "source": []
  },
  {
   "cell_type": "code",
   "execution_count": null,
   "id": "620e742f",
   "metadata": {},
   "outputs": [],
   "source": []
  },
  {
   "cell_type": "code",
   "execution_count": null,
   "id": "6e4ad732",
   "metadata": {},
   "outputs": [],
   "source": []
  },
  {
   "cell_type": "code",
   "execution_count": null,
   "id": "c4a6d2f7",
   "metadata": {},
   "outputs": [],
   "source": []
  },
  {
   "cell_type": "code",
   "execution_count": null,
   "id": "cb437056",
   "metadata": {},
   "outputs": [],
   "source": []
  },
  {
   "cell_type": "code",
   "execution_count": null,
   "id": "792c772a",
   "metadata": {},
   "outputs": [],
   "source": []
  },
  {
   "cell_type": "code",
   "execution_count": null,
   "id": "3da97423",
   "metadata": {},
   "outputs": [],
   "source": []
  },
  {
   "cell_type": "code",
   "execution_count": null,
   "id": "048549e8",
   "metadata": {},
   "outputs": [],
   "source": []
  },
  {
   "cell_type": "code",
   "execution_count": null,
   "id": "3fe4870b",
   "metadata": {},
   "outputs": [],
   "source": []
  },
  {
   "cell_type": "code",
   "execution_count": null,
   "id": "8fb37ed0",
   "metadata": {},
   "outputs": [],
   "source": []
  },
  {
   "cell_type": "code",
   "execution_count": null,
   "id": "15f898e6",
   "metadata": {},
   "outputs": [],
   "source": []
  },
  {
   "cell_type": "code",
   "execution_count": null,
   "id": "10a80d04",
   "metadata": {},
   "outputs": [],
   "source": []
  },
  {
   "cell_type": "code",
   "execution_count": null,
   "id": "00ba3305",
   "metadata": {},
   "outputs": [],
   "source": []
  },
  {
   "cell_type": "code",
   "execution_count": null,
   "id": "d043ed2f",
   "metadata": {},
   "outputs": [],
   "source": []
  },
  {
   "cell_type": "code",
   "execution_count": null,
   "id": "1a8742a0",
   "metadata": {},
   "outputs": [],
   "source": []
  },
  {
   "cell_type": "code",
   "execution_count": null,
   "id": "3aca3b97",
   "metadata": {},
   "outputs": [],
   "source": []
  },
  {
   "cell_type": "code",
   "execution_count": null,
   "id": "1f078fd9",
   "metadata": {},
   "outputs": [],
   "source": []
  },
  {
   "cell_type": "code",
   "execution_count": null,
   "id": "dd52eb2e",
   "metadata": {},
   "outputs": [],
   "source": [
    "# import sys"
   ]
  },
  {
   "cell_type": "code",
   "execution_count": null,
   "id": "a0a7e939",
   "metadata": {},
   "outputs": [],
   "source": [
    "# # function to plot the selected centroids\n",
    "# def plot(data, centroids):\n",
    "#     plt.scatter(data[:, 0], data[:, 1], marker = '.',\n",
    "#                 color = 'gray', label = 'data points')\n",
    "#     plt.scatter(centroids[:-1, 0], centroids[:-1, 1],\n",
    "#                 color = 'black', label = 'previously selected centroids')\n",
    "#     plt.scatter(centroids[-1, 0], centroids[-1, 1],\n",
    "#                 color = 'red', label = 'next centroid')\n",
    "#     plt.title('Select % d th centroid'%(centroids.shape[0]))\n",
    "     \n",
    "#     plt.legend()\n",
    "# #     plt.xlim(-5, 12)\n",
    "# #     plt.ylim(-10, 15)\n",
    "#     plt.show()\n",
    "# # function to compute euclidean distance\n",
    "# def distance(p1, p2):\n",
    "#     return np.sqrt(np.sum((p1 - p2)**2))\n",
    "  \n",
    "# # initialization algorithm\n",
    "# def initialize(data, k):\n",
    "#     '''\n",
    "#     initialized the centroids for K-means++\n",
    "#     inputs:\n",
    "#         data - numpy array of data points having shape (200, 2)\n",
    "#         k - number of clusters\n",
    "#     '''\n",
    "#     ## initialize the centroids list and add\n",
    "#     ## a randomly selected data point to the list\n",
    "#     centroids = []\n",
    "#     centroids.append(data[np.random.randint(\n",
    "#             data.shape[0]), :])\n",
    "#     plot(data, np.array(centroids))\n",
    "  \n",
    "#     ## compute remaining k - 1 centroids\n",
    "#     for c_id in range(k - 1):\n",
    "         \n",
    "#         ## initialize a list to store distances of data\n",
    "#         ## points from nearest centroid\n",
    "#         dist = []\n",
    "#         for i in range(data.shape[0]):\n",
    "#             point = data[i, :]\n",
    "#             d = sys.maxsize\n",
    "             \n",
    "#             ## compute distance of 'point' from each of the previously\n",
    "#             ## selected centroid and store the minimum distance\n",
    "#             for j in range(len(centroids)):\n",
    "#                 temp_dist = distance(point, centroids[j])\n",
    "#                 d = min(d, temp_dist)\n",
    "#             dist.append(d)\n",
    "             \n",
    "#         ## select data point with maximum distance as our next centroid\n",
    "#         dist = np.array(dist)\n",
    "#         next_centroid = data[np.argmax(dist), :]\n",
    "#         centroids.append(next_centroid)\n",
    "#         dist = []\n",
    "#         plot(data, np.array(centroids))\n",
    "#     return centroids\n",
    "  \n",
    "# # call the initialize function to get the centroids\n",
    "# centroids = initialize(X, k = 5)"
   ]
  },
  {
   "cell_type": "code",
   "execution_count": null,
   "id": "efacbc41",
   "metadata": {},
   "outputs": [],
   "source": [
    "centroids"
   ]
  },
  {
   "cell_type": "code",
   "execution_count": null,
   "id": "042da876",
   "metadata": {},
   "outputs": [],
   "source": [
    "m = np.array(centroids)"
   ]
  },
  {
   "cell_type": "code",
   "execution_count": null,
   "id": "45e5fbd0",
   "metadata": {},
   "outputs": [],
   "source": [
    "m"
   ]
  },
  {
   "cell_type": "code",
   "execution_count": null,
   "id": "dbbed454",
   "metadata": {},
   "outputs": [],
   "source": []
  }
 ],
 "metadata": {
  "kernelspec": {
   "display_name": "Python 3",
   "language": "python",
   "name": "python3"
  },
  "language_info": {
   "codemirror_mode": {
    "name": "ipython",
    "version": 3
   },
   "file_extension": ".py",
   "mimetype": "text/x-python",
   "name": "python",
   "nbconvert_exporter": "python",
   "pygments_lexer": "ipython3",
   "version": "3.8.8"
  }
 },
 "nbformat": 4,
 "nbformat_minor": 5
}

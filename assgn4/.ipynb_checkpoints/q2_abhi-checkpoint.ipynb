{
 "cells": [
  {
   "cell_type": "code",
   "execution_count": 2,
   "metadata": {},
   "outputs": [],
   "source": [
    "#importing required libraries\n",
    "\n",
    "from scipy.special import logsumexp\n",
    "from scipy import linalg, sparse\n",
    "import pandas as pd\n",
    "import numpy as np\n",
    "import numpy.linalg as lin\n",
    "import numpy.random as rnd\n",
    "from matplotlib import pyplot as plt"
   ]
  },
  {
   "cell_type": "code",
   "execution_count": 3,
   "metadata": {},
   "outputs": [],
   "source": [
    "#function to perform maximization step\n",
    "\n",
    "def m_step(log_resp):\n",
    "    \n",
    "    n_samples, _ = X.shape\n",
    "    \n",
    "    #getting updated means and covariances of each cluster\n",
    "    means, covariances = estimate_gaussian_parameters(np.exp(log_resp))\n",
    "    \n",
    "    #getting cholesky precisions\n",
    "    precisions_cholesky= compute_precision_cholesky(covariances)\n",
    "    \n",
    "    #returning updated parameters\n",
    "    return means,precisions_cholesky"
   ]
  },
  {
   "cell_type": "code",
   "execution_count": 4,
   "metadata": {},
   "outputs": [],
   "source": [
    "#function to return the log of the fixed weights of the mixture components\n",
    "#since in our question the mixture weights are fixed, we use only those for expectation step\n",
    "\n",
    "def estimate_log_weights():\n",
    "        \n",
    "        #returning log of the fixed mixture components\n",
    "        return np.log(fixed_weights)"
   ]
  },
  {
   "cell_type": "code",
   "execution_count": 5,
   "metadata": {},
   "outputs": [],
   "source": [
    "#function to calculate log of determinant of cholesky precisions\n",
    "\n",
    "def compute_log_det_cholesky(matrix_chol, n_features):\n",
    "    \n",
    "    #log of determinant of cholesky precisions=  no of features * log(cholesky precisions)\n",
    "    log_det_chol = n_features * (np.log(matrix_chol))\n",
    "    \n",
    "    #returning log det cholesky\n",
    "    return log_det_chol"
   ]
  },
  {
   "cell_type": "code",
   "execution_count": 6,
   "metadata": {},
   "outputs": [],
   "source": [
    "#function to calculate the log gaussian probabilities\n",
    "\n",
    "def estimate_log_gaussian_prob(means, precisions_chol):\n",
    "    n_samples, n_features = X.shape\n",
    "    n_components, _ = means.shape\n",
    "    \n",
    "    # The determinant of the precision matrix from the Cholesky decomposition\n",
    "    # corresponds to the negative half of the determinant of the full precision\n",
    "    # matrix.\n",
    "    # In short: det(precision_chol) = - det(precision) / 2\n",
    "    \n",
    "    log_det = compute_log_det_cholesky(precisions_chol, n_features)\n",
    "    precisions = precisions_chol ** 2\n",
    "    log_prob = (np.sum(means ** 2, 1) * precisions- 2 * np.dot(X, means.T * precisions)+ np.outer(np.einsum(\"ij,ij->i\", X, X), precisions))\n",
    "    \n",
    "    # Since we are using the precision of the Cholesky decomposition,\n",
    "    # `- 0.5 * log_det_precision` becomes `+ log_det_precision_chol`\n",
    "    \n",
    "    return -0.5 * (n_features * np.log(2 * np.pi) + log_prob) + log_det"
   ]
  },
  {
   "cell_type": "code",
   "execution_count": 7,
   "metadata": {},
   "outputs": [],
   "source": [
    "#function to calculate weighted log probabilities\n",
    "\n",
    "def estimate_weighted_log_prob(means,precisions_cholesky):\n",
    "    \n",
    "    #weighted log probabilities=  log gaussian probabilities + log weights\n",
    "    return estimate_log_gaussian_prob(means,precisions_cholesky) + estimate_log_weights()"
   ]
  },
  {
   "cell_type": "code",
   "execution_count": 8,
   "metadata": {},
   "outputs": [],
   "source": [
    "#function to calculate log responsibilities of samples\n",
    "\n",
    "def estimate_log_prob_resp(means,precisions_cholesky):\n",
    "    \n",
    "    #getting the weighted log probabilities\n",
    "    weighted_log_prob = estimate_weighted_log_prob(means,precisions_cholesky)\n",
    "    \n",
    "    #calculating the normalized log probabilities\n",
    "    log_prob_norm = logsumexp(weighted_log_prob, axis=1)\n",
    "    \n",
    "    #calculating the log responsibilities\n",
    "    with np.errstate(under=\"ignore\"):\n",
    "        # ignore underflow\n",
    "        log_resp = weighted_log_prob - log_prob_norm[:, np.newaxis]\n",
    "    \n",
    "    #returning normalized log probabilities,log responsibilities\n",
    "    return log_prob_norm, log_resp"
   ]
  },
  {
   "cell_type": "code",
   "execution_count": 9,
   "metadata": {},
   "outputs": [],
   "source": [
    "#function to do the estimation step\n",
    "\n",
    "def e_step(means,precisions_cholesky):\n",
    "    \n",
    "    #getting the  log probability normalized(the denominator for each x in the E step) and log responsibilities\n",
    "    log_prob_norm, log_resp = estimate_log_prob_resp(means,precisions_cholesky)\n",
    "    \n",
    "    #returning the mean of log probability noramalized and log responsibilities\n",
    "    return np.mean(log_prob_norm), log_resp"
   ]
  },
  {
   "cell_type": "code",
   "execution_count": 10,
   "metadata": {},
   "outputs": [],
   "source": [
    "#function to compute cholesky precisions\n",
    "\n",
    "def compute_precision_cholesky(covariances):\n",
    "    \n",
    "    #if any of the covariance is negative return erro\n",
    "    if np.any(np.less_equal(covariances, 0.0)):\n",
    "        raise ValueError\n",
    "    \n",
    "    #calcluating colesky precisions\n",
    "    precisions_chol = 1.0 / np.sqrt(covariances)\n",
    "    \n",
    "    #returning cholesky precisions\n",
    "    return precisions_chol"
   ]
  },
  {
   "cell_type": "code",
   "execution_count": 11,
   "metadata": {},
   "outputs": [],
   "source": [
    "#function to calculate the spherical covariance\n",
    "\n",
    "def covar(resp,nk,means):\n",
    "    n_c,n_f=means.shape\n",
    "    \n",
    "    #initializing covariance matrix\n",
    "    covar=np.empty((n_c,n_f,n_f))\n",
    "    \n",
    "    #to store the spherical covar of each cluster\n",
    "    spherical_cov=[]\n",
    "    \n",
    "    #for each cluster\n",
    "    for k in range(n_c):\n",
    "        \n",
    "        #calculating the full covariance\n",
    "        diff=X-means[k]\n",
    "        covar[k]=np.dot(resp[:,k]*diff.T,diff)/nk[k]\n",
    "        \n",
    "        #calculating the diagonal covariance(by multiplying with identity matrix) and then calculting the\n",
    "        #mean of diagonal elements to get the spherical covar\n",
    "        s_co=np.diagonal(covar[k]*np.identity(2)).mean()\n",
    "        \n",
    "        #adding the computed shperical cov to the list\n",
    "        spherical_cov.append(s_co)\n",
    "        \n",
    "    #converting to array\n",
    "    spherical_cov=np.array(spherical_cov)\n",
    "    \n",
    "    #returning the spherical covariances\n",
    "    return spherical_cov"
   ]
  },
  {
   "cell_type": "code",
   "execution_count": 12,
   "metadata": {},
   "outputs": [],
   "source": [
    "#function to return gaussian parameters of each cluster when given responsibilities\n",
    "\n",
    "def estimate_gaussian_parameters(resp):\n",
    "    \n",
    "    #computing the no of points in each cluster\n",
    "    nk = resp.sum(axis=0) + 10 * np.finfo(resp.dtype).eps\n",
    "    \n",
    "    #computing the means of each cluster\n",
    "    means = np.dot(resp.T, X) / nk[:, np.newaxis]\n",
    "    \n",
    "    #computing the covariances of each cluster(covar function returns spherical covariances)\n",
    "    covariances = covar(resp, nk, means)\n",
    "    \n",
    "    #returning gaussian parameters i.e means,covariances \n",
    "    return means, covariances"
   ]
  },
  {
   "cell_type": "code",
   "execution_count": 13,
   "metadata": {},
   "outputs": [],
   "source": [
    "#function to initialize the parameters and return them\n",
    "\n",
    "def initialize_parameters():\n",
    "    \n",
    "    #getting no of data points\n",
    "    n_samples, _ = X.shape\n",
    "    \n",
    "    #randomly assigning responsibilites\n",
    "    resp = np.random.rand(n_samples,n_components)\n",
    "    \n",
    "    #normalizing responsibilities of each data point such that the sum will be 1\n",
    "    resp /= resp.sum(axis=1)[:, np.newaxis]\n",
    "    \n",
    "    #computing the means and covariances of each cluster based on responsibilities\n",
    "    means, covariances = estimate_gaussian_parameters(resp)\n",
    "    \n",
    "    #computing cholesky precisions\n",
    "    precisions_cholesky = compute_precision_cholesky(covariances)\n",
    "    \n",
    "    #returning initial responsibilities,means,cholesky precisions\n",
    "    return resp,means,precisions_cholesky"
   ]
  },
  {
   "cell_type": "code",
   "execution_count": 14,
   "metadata": {},
   "outputs": [],
   "source": [
    "#function to fit X and return predictions (cluster labels) of X\n",
    "#max_iter:the max no of times EM must be performed\n",
    "\n",
    "def fit_predict(max_iter):\n",
    "    \n",
    "    #getting the no of samples\n",
    "    n_samples, _ = X.shape\n",
    "    \n",
    "    #initializing the parameters(responsibilities,cluster means,precisions)required for estimation step\n",
    "    resp,means,precisions_cholesky=initialize_parameters()\n",
    "    \n",
    "    #initializing lower bound(used for convergence checking)\n",
    "    lower_bound = -np.inf\n",
    "    \n",
    "    #initializing total(used for checking)\n",
    "    tol=1e-5\n",
    "    \n",
    "    #looping for max no of iterations specified\n",
    "    for n_iter in range(1, max_iter + 1):\n",
    "        \n",
    "        #storing previous iterations lower bound \n",
    "        prev_lower_bound = lower_bound\n",
    "        \n",
    "        #performing 'E' step\n",
    "        #getting the mean of log probability normalized(the denominator for each x in the E step) and log responsibilities\n",
    "        log_prob_norm, log_resp = e_step(means,precisions_cholesky)\n",
    "        \n",
    "        #performing 'M' step\n",
    "        #returns means and cholesky precision for each cluster\n",
    "        means,precisions_cholesky=m_step( log_resp)\n",
    "        \n",
    "        #assigning lower bound\n",
    "        lower_bound = log_prob_norm\n",
    "        \n",
    "        #computing the change in the lower bound of current and previous iteration\n",
    "        change = lower_bound - prev_lower_bound\n",
    "        \n",
    "        #if the absolute value of change is less than tot,then the values are converged ,so exit loop\n",
    "        if abs(change) < tol:\n",
    "            converged = True\n",
    "            break\n",
    "    \n",
    "    #getting the final responsibilities of each point\n",
    "    _, log_resp = e_step(means,precisions_cholesky)\n",
    "    \n",
    "    #returning the cluster labels having the max responsibility of each point\n",
    "    return log_resp.argmax(axis=1)"
   ]
  },
  {
   "cell_type": "code",
   "execution_count": 15,
   "metadata": {},
   "outputs": [],
   "source": [
    "#functions to create and plot synthetic data\n",
    "\n",
    "def getFigure( sizex = 7, sizey = 7 ):\n",
    "    fig = plt.figure( figsize = (sizex, sizey) )\n",
    "    return fig\n",
    "\n",
    "def plot2D( X, fig, color = 'r', marker = '+', size = 100, empty = False ):\n",
    "    plt.figure( fig.number )\n",
    "    if empty:\n",
    "        plt.scatter( X[:,0], X[:,1], s = size, facecolors = 'none', edgecolors = color, marker = marker  )\n",
    "    else:\n",
    "        plt.scatter( X[:,0], X[:,1], s = size, c = color, marker = marker )\n",
    "\n",
    "def genSphericalData( d, n, mu, r ):\n",
    "    X = rnd.normal( 0, 1, (n, d) )\n",
    "    norms = lin.norm( X, axis = 1 )\n",
    "    X = X / norms[:, np.newaxis]\n",
    "    X = (X * r) + mu\n",
    "    return X"
   ]
  },
  {
   "cell_type": "code",
   "execution_count": 16,
   "metadata": {},
   "outputs": [],
   "source": [
    "#global parameters (used by EM algorithm)\n",
    "#X:data,  n_components:no of cluster,  fixed_weights:fixed mixture weights\n",
    "\n",
    "global X,n_components,fixed_weights;"
   ]
  },
  {
   "cell_type": "code",
   "execution_count": 17,
   "metadata": {},
   "outputs": [
    {
     "data": {
      "image/png": "[encoded data removed]",
      "text/plain": [
       "<Figure size 576x576 with 1 Axes>"
      ]
     },
     "metadata": {
      "needs_background": "light"
     },
     "output_type": "display_data"
    }
   ],
   "source": [
    "#generating 3 clustered synthetic data and storing it in 'X'\n",
    "\n",
    "d = 2\n",
    "n = 200\n",
    "\n",
    "mu1 = np.array( [0,0] )\n",
    "mu2= np.array( [3.5,3.5] )\n",
    "mu3=np.array([7,7])\n",
    "\n",
    "tmp1 = genSphericalData( d, n, mu1, 1.9 )\n",
    "tmp2=genSphericalData( d, n, mu2,2)\n",
    "tmp3 = genSphericalData( d, n, mu3, 1.9 )\n",
    "\n",
    "X = np.vstack( (tmp1, tmp2,tmp3) )\n",
    "\n",
    "#plotting generated data\n",
    "fig = getFigure( 8, 8 )\n",
    "plot2D( X, fig, size = 50, color = 'b', marker = 'o' )"
   ]
  },
  {
   "cell_type": "code",
   "execution_count": 18,
   "metadata": {},
   "outputs": [],
   "source": [
    "#defining the other two global parameteres\n",
    "#taking fixed mixture weights as [0.33,0.33,0.33]\n",
    "n_components=3\n",
    "fixed_weights=np.array([0.33,0.33,0.33])"
   ]
  },
  {
   "cell_type": "code",
   "execution_count": 19,
   "metadata": {},
   "outputs": [
    {
     "data": {
      "image/png": "[encoded data removed]",
      "text/plain": [
       "<Figure size 576x576 with 1 Axes>"
      ]
     },
     "metadata": {
      "needs_background": "light"
     },
     "output_type": "display_data"
    }
   ],
   "source": [
    "#converting to dataframe\n",
    "df=pd.DataFrame(X)\n",
    "\n",
    "#adding labels columns by calling fit predict function\n",
    "df['label']=fit_predict(max_iter=500)\n",
    "#print(fit_predict(max_iter=500))\n",
    "#getting the unique labels \n",
    "u_labels = np.unique(df['label'])\n",
    "\n",
    "#plotting the clusters\n",
    "fig = getFigure( 8, 8 )\n",
    "for i in u_labels:\n",
    "    plt.scatter(df[df['label'] == i].iloc[:,0] , df[df['label'] == i].iloc[:,1] , label = i)\n",
    "plt.legend()\n",
    "plt.show()"
   ]
  },
  {
   "cell_type": "code",
   "execution_count": null,
   "metadata": {},
   "outputs": [],
   "source": []
  }
 ],
 "metadata": {
  "kernelspec": {
   "display_name": "Python 3",
   "language": "python",
   "name": "python3"
  },
  "language_info": {
   "codemirror_mode": {
    "name": "ipython",
    "version": 3
   },
   "file_extension": ".py",
   "mimetype": "text/x-python",
   "name": "python",
   "nbconvert_exporter": "python",
   "pygments_lexer": "ipython3",
   "version": "3.8.8"
  }
 },
 "nbformat": 4,
 "nbformat_minor": 4
}

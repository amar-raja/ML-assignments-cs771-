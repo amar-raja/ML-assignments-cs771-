{
 "cells": [
  {
   "cell_type": "markdown",
   "metadata": {},
   "source": [
    "ROLLNUM--21111009"
   ]
  },
  {
   "cell_type": "markdown",
   "metadata": {},
   "source": [
    "Use any additional libraries you want, but if you don't explicitly code stuff that I have explicitly asked you to code, you will not get marks."
   ]
  },
  {
   "cell_type": "markdown",
   "metadata": {},
   "source": [
    "### Q1. Kernel k-means\n",
    "\n",
    "Let's try and end our course on a happy note. The smiley dataset you see below is made up of many clusters of points. "
   ]
  },
  {
   "cell_type": "code",
   "execution_count": 44,
   "metadata": {},
   "outputs": [],
   "source": [
    "import random\n",
    "import numpy as np\n",
    "import numpy.linalg as lin\n",
    "import numpy.random as rnd\n",
    "from matplotlib import pyplot as plt\n",
    "import warnings\n",
    "warnings.filterwarnings('ignore')\n",
    "\n",
    "\n",
    "def getFigure( sizex = 7, sizey = 7 ):\n",
    "    fig = plt.figure( figsize = (sizex, sizey) )\n",
    "    return fig\n",
    "\n",
    "def plot2D( X, fig, color = 'r', marker = '+', size = 100, empty = False ):\n",
    "    plt.figure( fig.number )\n",
    "    if empty:\n",
    "        plt.scatter( X[:,0], X[:,1], s = size, facecolors = 'none', edgecolors = color, marker = marker  )\n",
    "    else:\n",
    "        plt.scatter( X[:,0], X[:,1], s = size, c = color, marker = marker )\n",
    "\n",
    "\n",
    "def genCrescentData( d, n, mu, r, flipped = False ):\n",
    "    X = np.vstack( (np.cos( np.linspace( 0, np.pi, n ) ), np.sin( np.linspace( 0, np.pi, n ) ) ) ).T\n",
    "    if flipped:\n",
    "        X[:,1] = -np.abs( X[:,1] )                         #making negative\n",
    "    else:\n",
    "        X[:,1] = np.abs( X[:,1] )                          #making postive\n",
    "    X = (X * r) + mu\n",
    "    return X\n",
    "\n",
    "def genSphericalData( d, n, mu, r ):\n",
    "    X = rnd.normal( 0, 1, (n, d) )\n",
    "    norms = lin.norm( X, axis = 1 )\n",
    "    X = X / norms[:, np.newaxis]\n",
    "    X = (X * r) + mu\n",
    "    return X"
   ]
  },
  {
   "cell_type": "code",
   "execution_count": 45,
   "metadata": {},
   "outputs": [],
   "source": [
    "d = 2\n",
    "n = 200\n",
    "\n",
    "mu1 = np.array( [0,0] )\n",
    "mu2 = np.array( [0,1] )\n",
    "mu3 = np.array( [0,0] )\n",
    "mu4 = np.array( [-3,5] )\n",
    "mu5 = np.array( [3,5] )\n",
    "\n",
    "tmp1 = genCrescentData( d, n, mu1, 1 )\n",
    "tmp2 = genCrescentData( d, n, mu2, 5, flipped = True )\n",
    "tmp3 = genSphericalData( d, n, mu3, 10 )\n",
    "tmp4 = genSphericalData( d, n, mu4, 1 )\n",
    "tmp5 = genSphericalData( d, n, mu5, 1 )\n",
    "X = np.vstack( (tmp1, tmp2, tmp3, tmp4, tmp5) )"
   ]
  },
  {
   "cell_type": "code",
   "execution_count": 46,
   "metadata": {},
   "outputs": [
    {
     "data": {
      "image/png": "[encoded data removed]",
      "text/plain": [
       "<Figure size 576x576 with 1 Axes>"
      ]
     },
     "metadata": {
      "needs_background": "light"
     },
     "output_type": "display_data"
    }
   ],
   "source": [
    "fig = getFigure( 8, 8 )\n",
    "plot2D( X, fig, size = 50, color = 'b', marker = 'o' )"
   ]
  },
  {
   "cell_type": "markdown",
   "metadata": {},
   "source": [
    "(a) Can you implement the k-means algorithm to cluster this dataset? Visualize your output. [10 points] \n",
    "\n",
    "(b) Implement k-means++ to initialize cluster centers usefully. [5 points]\n",
    "\n",
    "(c) What value of k gives you the best clustering? Are you happy with the quality of the clustering? [5 points]\n"
   ]
  },
  {
   "cell_type": "markdown",
   "metadata": {},
   "source": [
    "(d) I'm going to say that we want to be able to do better than this. So I want you to kernelize your k-means algorithm with a Gaussian kernel. Visualize the clustering output of your kernel k-means algorithm [15 points]"
   ]
  },
  {
   "cell_type": "markdown",
   "metadata": {},
   "source": [
    "# 1a)"
   ]
  },
  {
   "cell_type": "code",
   "execution_count": 47,
   "metadata": {},
   "outputs": [],
   "source": [
    "class KMeans:\n",
    "    def __init__(self,n_clusters,max_iter = 300):\n",
    "        self.n_clusters = n_clusters\n",
    "        self.max_iter = max_iter\n",
    "        self.centroids = None\n",
    "    \n",
    "    #FiTTING AND PREDICTING THE MODEL\n",
    "    def fit_predict(self,data,centroids_data=None):\n",
    "        \n",
    "        #RANDOM CLUSTER CENTROIDS SELECTION\n",
    "        \n",
    "        if(centroids_data is None):                    #THIS GETS EXECUTED FOR K-MEANS\n",
    "            random_index = random.sample(range(0 ,data.shape[0]), self.n_clusters)\n",
    "            self.centroids = data[random_index]\n",
    "        else:\n",
    "            self.centroids = centroids_data    #THIS GETS EXECUTED FOR K-MEANS++\n",
    "        \n",
    "        for i in range(self.max_iter):\n",
    "            # ASSIGNING CLUSTERS\n",
    "            cluster_labels = self.assign_clusters(data)\n",
    "            \n",
    "            #STORING OLD CENTROID VALUES\n",
    "            old_centroids = self.centroids\n",
    "        \n",
    "            # CALCULATING CLUSTER CENTROIDS\n",
    "            self.centroids = self.new_centroids(data,cluster_labels)\n",
    "            \n",
    "            # CHECKING CONVERGENCE\n",
    "            if (old_centroids == self.centroids).all():\n",
    "                print('FOR K= {} CONVERGED AT ITER: {}'.format(self.n_clusters,i))\n",
    "                break\n",
    "        \n",
    "        #SSE ERROR WITHIN THE CLUSTER\n",
    "        e = self.sse(data,cluster_labels)\n",
    "        \n",
    "        return cluster_labels,self.centroids,e\n",
    "    \n",
    "    \n",
    "    #ASSIGNING DATA POINT TO EACH CLUSTER\n",
    "    def assign_clusters(self,data):\n",
    "        cluster_label = []\n",
    "        euc_distances = []\n",
    "    \n",
    "        for row_i in data:                       #each row\n",
    "            for centroid in self.centroids:       #with each cluster centroid\n",
    "                euc_distances.append(np.sqrt(np.dot(row_i-centroid,row_i-centroid)))    #euclidean distance\n",
    "            \n",
    "            index_pos = euc_distances.index(min(euc_distances))    #closest centorid\n",
    "            cluster_label.append(index_pos)\n",
    "            euc_distances.clear()    #emptying the list for next row_point\n",
    "            \n",
    "        return np.array(cluster_label)\n",
    "    \n",
    "    #CALCULATING MEAN IN THE CLUSTERS FOR CENTROID UPDATE\n",
    "    def new_centroids(self,data,cluster_label):\n",
    "        \n",
    "        new_centroid_points = []\n",
    "        clust_name = np.unique(cluster_label)    #cluster class labels are stored\n",
    "        \n",
    "        for i in clust_name:\n",
    "            new_centroid_points.append(data[cluster_label == i].mean(axis=0))\n",
    "            \n",
    "        return np.array(new_centroid_points)\n",
    "        \n",
    "        \n",
    "    #SUM OF SQUARED ERROR WITHIN CLUSTER FOR ELBOW-METHOD\n",
    "    def sse(self,data,cluster_labels):\n",
    "        ss_eroor = 0\n",
    "        for i in range(data.shape[0]):\n",
    "            curr_center = self.centroids[cluster_labels[i]]\n",
    "#             ss_eroor += np.sqrt((data[i, 0] - curr_center[0]) ** 2 + (data[i, 1] - curr_center[1]) ** 2)\n",
    "            ss_eroor += (data[i, 0] - curr_center[0]) ** 2 + (data[i, 1] - curr_center[1]) ** 2\n",
    "        return ss_eroor\n",
    "        \n",
    "        "
   ]
  },
  {
   "cell_type": "code",
   "execution_count": 48,
   "metadata": {},
   "outputs": [
    {
     "name": "stdout",
     "output_type": "stream",
     "text": [
      "FOR K= 5 CONVERGED AT ITER: 12\n"
     ]
    }
   ],
   "source": [
    "#LET NUMBER OF CLUSTERS \"K\"\n",
    "k=5\n",
    "\n",
    "#CREATING AN OBJECT AND PASSING \"K\" number of clusters\n",
    "d1 = KMeans(5)\n",
    "\n",
    "#FITTING AND PREDICTING\n",
    "t1,cent,error = d1.fit_predict(X)               "
   ]
  },
  {
   "cell_type": "code",
   "execution_count": 49,
   "metadata": {},
   "outputs": [
    {
     "data": {
      "image/png": "[encoded data removed]",
      "text/plain": [
       "<Figure size 576x432 with 1 Axes>"
      ]
     },
     "metadata": {
      "needs_background": "light"
     },
     "output_type": "display_data"
    }
   ],
   "source": [
    "#PLOTTING K_MEANS\n",
    "plt.figure(figsize=(8, 6))\n",
    "plt.scatter(X[:,0], X[:,1], c=t1.astype(float))\n",
    "plt.plot(cent[:,0],cent[:,1],'ko',  markersize=20)\n",
    "plt.title('K-MEANS')\n",
    "plt.xlabel('x')\n",
    "plt.ylabel('y')\n",
    "plt.show()"
   ]
  },
  {
   "cell_type": "code",
   "execution_count": null,
   "metadata": {},
   "outputs": [],
   "source": []
  },
  {
   "cell_type": "markdown",
   "metadata": {},
   "source": [
    "# 1B)"
   ]
  },
  {
   "cell_type": "markdown",
   "metadata": {},
   "source": [
    "# KMeans++"
   ]
  },
  {
   "cell_type": "code",
   "execution_count": 65,
   "metadata": {},
   "outputs": [],
   "source": [
    "# STORING DATA \n",
    "data=X\n",
    "\n",
    "# PICKING FIRST CENTROID RANDOMLY\n",
    "centroid_list = data[random.sample(range(0,data.shape[0]),1)]\n",
    "\n",
    "# CALCULATING NEXT \"K-1\" CENTROIDS\n",
    "for c_id in range(k - 1):\n",
    "    # COLLECTING DISTANCES INTO A LIST\n",
    "    dist = [] \n",
    "    \n",
    "    # ITERATING THROUGH EACH DATA POINT\n",
    "    for row_i in data:                       \n",
    "        # SETTING MAX_DISTANCE AS A HIGH VALUE\n",
    "        d = 10**6           \n",
    "        \n",
    "        #CALCULATING WITH EXISTING CENTROIDS\n",
    "        for i in range(len(centroid_list)):\n",
    "#             temp = np.sqrt(np.dot(row_i-centroid_list[i],row_i-centroid_list[i]))\n",
    "            temp = np.dot(row_i-centroid_list[i],row_i-centroid_list[i])\n",
    "            d = min(d,temp)                        # WE NEED DISTANCE OF A POINT  WITH THE NEAREST CENTROID\n",
    "        dist.append(d)\n",
    "    \n",
    "    #SELECTING MAX_DISTANCE POINT AS CENTROID AS IT WILL UNANIMOUSLY HAVE HIGH POROBABILITY\n",
    "    next_centroid = data[np.argmax(dist), :]\n",
    "    \n",
    "    #APPENDING NEW CENTROID TO THE CENTROID LIST\n",
    "    centroid_list = np.append(arr=centroid_list,values=[next_centroid],axis=0)\n",
    "    \n",
    "    #EMPTYING THE DISTANCE LIST FOR NEXT CENTROID SELECTION\n",
    "    dist = []\n",
    "                \n",
    "    "
   ]
  },
  {
   "cell_type": "code",
   "execution_count": 66,
   "metadata": {},
   "outputs": [
    {
     "name": "stdout",
     "output_type": "stream",
     "text": [
      "FOR K= 5 CONVERGED AT ITER: 16\n"
     ]
    }
   ],
   "source": [
    "#forkmeans++\n",
    "d1 = KMeans(5)\n",
    "t1,cent,error = d1.fit_predict(X,centroid_list)"
   ]
  },
  {
   "cell_type": "code",
   "execution_count": 67,
   "metadata": {},
   "outputs": [
    {
     "data": {
      "image/png": "[encoded data removed]",
      "text/plain": [
       "<Figure size 576x432 with 1 Axes>"
      ]
     },
     "metadata": {
      "needs_background": "light"
     },
     "output_type": "display_data"
    }
   ],
   "source": [
    "# for k=5\n",
    "colr_m = np.array(['red','blue','green','yellow','black'])\n",
    "plt.figure(figsize=(8, 6))\n",
    "# plt.scatter(X[:,0], X[:,1], c=t1.astype(float))\n",
    "plt.scatter(X[:,0], X[:,1], c=colr_m[t1])\n",
    "\n",
    "# for i in range(len(colr_m)):\n",
    "#     plt.plot(cent[i,0],cent[i,1],colr_m[i],  markersize=20)\n",
    "plt.plot(cent[:,0],cent[:,1],'mo',markersize=20)\n",
    "plt.title('K-MEANS++')\n",
    "plt.xlabel('x')\n",
    "plt.ylabel('y')\n",
    "plt.show()"
   ]
  },
  {
   "cell_type": "code",
   "execution_count": null,
   "metadata": {},
   "outputs": [],
   "source": []
  },
  {
   "cell_type": "markdown",
   "metadata": {},
   "source": [
    "# 1C)"
   ]
  },
  {
   "cell_type": "markdown",
   "metadata": {},
   "source": [
    "## FINDING OPTIMAL \"K\" USING ELBOW METHOD"
   ]
  },
  {
   "cell_type": "code",
   "execution_count": 68,
   "metadata": {},
   "outputs": [
    {
     "name": "stdout",
     "output_type": "stream",
     "text": [
      "FOR K= 2 CONVERGED AT ITER: 16\n",
      "FOR K= 3 CONVERGED AT ITER: 11\n",
      "FOR K= 4 CONVERGED AT ITER: 18\n",
      "FOR K= 5 CONVERGED AT ITER: 9\n",
      "FOR K= 6 CONVERGED AT ITER: 24\n",
      "FOR K= 7 CONVERGED AT ITER: 11\n",
      "FOR K= 8 CONVERGED AT ITER: 16\n",
      "FOR K= 9 CONVERGED AT ITER: 27\n"
     ]
    }
   ],
   "source": [
    "#CALCULATING SSE error FOR \"K\" CLUSTERs FOR DIFFERENT K VALUES\n",
    "list_of_errors = []\n",
    "\n",
    "#DIFFERENT K VALUES\n",
    "for c in range(2,10):\n",
    "    d1 = KMeans(c)\n",
    "    t1,c,error = d1.fit_predict(X)\n",
    "    list_of_errors.append(error)"
   ]
  },
  {
   "cell_type": "code",
   "execution_count": 69,
   "metadata": {},
   "outputs": [
    {
     "data": {
      "image/png": "[encoded data removed]",
      "text/plain": [
       "<Figure size 1152x432 with 1 Axes>"
      ]
     },
     "metadata": {
      "needs_background": "light"
     },
     "output_type": "display_data"
    }
   ],
   "source": [
    "fig, b = plt.subplots(figsize=(16,6))\n",
    "plt.plot(list(range(2, 10)),list_of_errors,linestyle='--', marker='o', color='b')\n",
    "b.set_title('ELBOW METHOD')\n",
    "plt.xlabel('NUMBER OF CLUSTERS')\n",
    "plt.ylabel('SUM OF SQUARED ERROR')\n",
    "plt.show()"
   ]
  },
  {
   "cell_type": "code",
   "execution_count": null,
   "metadata": {},
   "outputs": [],
   "source": []
  },
  {
   "cell_type": "markdown",
   "metadata": {},
   "source": [
    "<u>POINTS<u>:"
   ]
  },
  {
   "cell_type": "markdown",
   "metadata": {},
   "source": [
    "<u><h3>USING ELBOW TECHNIQUE </h3></u> \n",
    "    \n",
    "FROM THE ABOVE PLOT WE CAN INFER THAT K=5 CAN BE CONSIDERED AS OPTIMAL FOR K-MEANS\n",
    "WE CAN OBSERVE THAT CLUSTERING IS NOT IDEAL, AS STANDARD KMEANS CANNOT DRAW A NON-LINEAR CLASSIFIER\n",
    "AND SO WE ARE NOT HAPPY WITH THIS CLUSTERING."
   ]
  },
  {
   "cell_type": "markdown",
   "metadata": {},
   "source": [
    "SO WE USE KERNEL K-MEANS (with Gaussian kernel)"
   ]
  },
  {
   "cell_type": "code",
   "execution_count": null,
   "metadata": {},
   "outputs": [],
   "source": []
  },
  {
   "cell_type": "markdown",
   "metadata": {},
   "source": [
    "# 1D)"
   ]
  },
  {
   "cell_type": "markdown",
   "metadata": {},
   "source": [
    "## GAUSSAIN KERNEL"
   ]
  },
  {
   "cell_type": "code",
   "execution_count": 76,
   "metadata": {},
   "outputs": [],
   "source": [
    "# GAUSSIAN KERNEL\n",
    "def gaussian_kernel(X):\n",
    "    #This function will transform the input data into a kernalized data matrix\n",
    "    \n",
    "    #KERNEL K MEANS WITH \"LANDMARKS METHOD\" APPROACH     \n",
    "    g = 1/(np.std(X)**2)\n",
    "    return np.array([np.exp(-g*np.linalg.norm(X - X[i], axis=1)**2) for i in range(X.shape[0])])\n",
    "\n",
    "# returns a matrix of (1000,1000)"
   ]
  },
  {
   "cell_type": "code",
   "execution_count": 77,
   "metadata": {},
   "outputs": [],
   "source": [
    "# Transform the input space using kernel function\n",
    "X_transformed = gaussian_kernel(X)"
   ]
  },
  {
   "cell_type": "code",
   "execution_count": 78,
   "metadata": {},
   "outputs": [
    {
     "name": "stdout",
     "output_type": "stream",
     "text": [
      "FOR K= 5 CONVERGED AT ITER: 3\n"
     ]
    },
    {
     "data": {
      "text/plain": [
       "<matplotlib.collections.PathCollection at 0x18338c4f370>"
      ]
     },
     "execution_count": 78,
     "metadata": {},
     "output_type": "execute_result"
    },
    {
     "data": {
      "image/png": "[encoded data removed]",
      "text/plain": [
       "<Figure size 576x432 with 1 Axes>"
      ]
     },
     "metadata": {
      "needs_background": "light"
     },
     "output_type": "display_data"
    }
   ],
   "source": [
    "k=5\n",
    "d1 = KMeans(5)\n",
    "t1,cent,error = d1.fit_predict(X_transformed)\n",
    "\n",
    "# for k=5\n",
    "# colr_m = ['red','blue','green','yellow','black']\n",
    "plt.figure(figsize=(8, 6))\n",
    "plt.scatter(X[:,0], X[:,1], c=t1.astype(float))\n",
    "# plt.plot(cent[:,0],cent[:,1],'bo',  markersize=20)"
   ]
  },
  {
   "cell_type": "code",
   "execution_count": 15,
   "metadata": {},
   "outputs": [],
   "source": [
    "#COMMENTs \n",
    "# RUN ABOVE GAUSSIAN KERNEL ATLEAST TWICE"
   ]
  },
  {
   "cell_type": "code",
   "execution_count": null,
   "metadata": {},
   "outputs": [],
   "source": []
  },
  {
   "cell_type": "code",
   "execution_count": null,
   "metadata": {},
   "outputs": [],
   "source": []
  },
  {
   "cell_type": "code",
   "execution_count": null,
   "metadata": {},
   "outputs": [],
   "source": []
  },
  {
   "cell_type": "code",
   "execution_count": null,
   "metadata": {},
   "outputs": [],
   "source": []
  },
  {
   "cell_type": "markdown",
   "metadata": {},
   "source": [
    "### Q2. Expectation-Maximization"
   ]
  },
  {
   "cell_type": "markdown",
   "metadata": {},
   "source": [
    "We saw how to use EM to learn parameters for Gaussian mixture models last week. Specifically, for a GMM described by the set of parameters $\\{\\pi_k, \\mu_k, \\Sigma_k \\}_{k=1}^K$, we saw that the E-step boils down to figuring out the expected assignment of clusters based on a responsibility judgment proportional to $\\pi_k~N(\\mu_k, \\Sigma_k)$, given curent parameter estimates, followed by using GDA MLE updates assuming the current expected assignment in the M-step to update parameter values."
   ]
  },
  {
   "cell_type": "markdown",
   "metadata": {},
   "source": [
    "(a) Can you derive the E-step and M-step for an EM algorithm that would work for a Gaussian mixture model wherein the mixture weights $\\pi_k$ are known, and the covariances are restricted to be spherical, i.e. $\\Sigma_k = \\sigma^2_k I$? [20 points]"
   ]
  },
  {
   "cell_type": "markdown",
   "metadata": {},
   "source": [
    "(b) Implement this algorithm and show that it works on synthetic data with 3 clusters. If you are unable to derive the EM algorithm for part (a), implement the EM algorithm I showed in the class slides for the standard GMM (5 point penalty for taking this option) [15 points]. "
   ]
  },
  {
   "cell_type": "markdown",
   "metadata": {},
   "source": [
    "### SOLUTIONS"
   ]
  },
  {
   "cell_type": "markdown",
   "metadata": {},
   "source": [
    "# 2a) "
   ]
  },
  {
   "cell_type": "markdown",
   "metadata": {},
   "source": [
    "Let $k$ be the number of Spherical Gaussians\n",
    "$$\n",
    "$$\n",
    "$$\n",
    "\\theta=\\left\\{\\mu_{1}, \\mu_{2}, \\ldots \\mu_{k}, \\sigma_{1}^{2}, \\sigma_{2}^{2}, \\ldots \\sigma_{k}^{2}\\right\\}\n",
    "$$\n",
    "\n",
    "Density of spherical gaussian => $N\\left(u, \\sigma_{I_{d}}^2\\right), x \\in R^{d}$\n",
    "$$\n",
    "P(x)=\\frac{1}{(2 \\pi)^{d / 2} \\sigma^{d}} \\operatorname{exp}\\left(\\frac{-\\|x-\\mu\\|^{2}}{2 \\sigma^{2}}\\right)\n",
    "$$\n",
    "$$\n",
    "$$\n",
    "Let$$x=\\left\\{n_{1}, n_{2}, \\ldots n_{n}\\right\\} \\text { are } n \\text { i.i.d and } \n",
    "z=\\left\\{z_{1}, z_{2}, \\ldots z_{n}\\right\\} \\text {are Corresponding latent variables}\n",
    "$$\n",
    "$$\n",
    "$$\n",
    "likelihood of i'th sample came from spherical gaussian $k$ be $\\pi_{k}$\n",
    "$$\n",
    "$$\n",
    "$$\n",
    "P\\left(z_{i}=k / \\theta\\right)=\\pi_{k}\n",
    "$$\n",
    "$$\n",
    "$$\n",
    "\n",
    "We have mixture weights as\n",
    "$\\left\\{\\pi_{1}, \\pi_{2}, \\ldots \\pi_{k}\\right\\},$ given these are fixed\n",
    "$$\n",
    "$$\n",
    "let\n",
    "$$\n",
    "$$\n",
    "$$\n",
    "\\theta=\\left\\{\\mu_{1}, \\mu_{2}, \\cdots \\mu_{k}, \\sigma_{1}^{2}, \\sigma_{2}^{2}, \\ldots \\sigma_{n}^{2}, \\pi_{1}, \\pi_{2}, \\ldots \\pi_{k}\\right\\}\n",
    "$$\n",
    "$$\n",
    "$$\n",
    "likelihood of observing a data point 'i' given that it is from spherical gausion ' $k$ ' is\n",
    "$$\n",
    "$$\n",
    "$$\n",
    "P\\left(x_{i} \\mid z_{i}=k, \\mu_{k}, \\sigma_{k}^{2}\\right)=N\\left(x_{i} / \\mu_{k}, \\sigma_{k}^{2}\\right)\n",
    "$$\n",
    "$$\n",
    "$$\n",
    "Probabitity of observing all data points\n",
    "$$\n",
    "\\begin{aligned}\n",
    "P(x, z / \\theta) &=\\prod_{n=1}^{N} P\\left(x_{n}, z_{n} / \\theta\\right) \\\\\n",
    "&=\\prod_{n=1}^{N} P\\left(\\left.z_{n}\\right|{\\theta}\\right) P\\left(x_{n} / z_{n}, \\theta\\right) \\\\\n",
    "&=\\prod_{n=1}^{N} \\prod_{k=1}^{K}\\left(\\pi_{k}\\right)^{z_{n k}} \\prod_{k=1}^{K} P\\left(x_{n} / z_{n}=k, \\theta\\right)\n",
    "\\end{aligned}\n",
    "$$\n",
    "$z_{n k}$ is the responsibilty  that $n^{\\text {th }}$ data point belongs to cluster $k$ or not.\n",
    "$$\n",
    "$$\n",
    "$$\n",
    "z_{n 1}+z_{n 2}+\\cdots+z_{n k}=1 \\quad \\forall n \\in N\n",
    "$$\n",
    "$$\n",
    "$$\n",
    "$$\n",
    "=\\prod_{n=1}^{N} \\prod_{k=1}^{K}\\left[\\pi_{k} * P\\left(x_{n}|z_{n}=k, \\theta \\right)\\right]^{z_{n k}}\n",
    "$$\n",
    "$$\n",
    "$$\n",
    "For simplification taking $\\log$\n",
    "$$\n",
    "$$\n",
    "$$\n",
    "\\begin{aligned}\n",
    "&=\\log \\prod_{n=1}^{N} \\prod_{k=1}^{K} \\left[\\pi_{k} * P\\left(x_{n}| z_{n}=k, \\theta\\right)\\right]^{Z_{n k}} \\\\\n",
    "&=\\sum_{n=1}^{N} \\sum_{k=1}^{K} \\log \\left[\\pi_{k} * P\\left(x_{n}| z_{n}=k, \\theta\\right)\\right]^{z_{n k}} \\\\\n",
    "&=\\sum_{n=1}^{N} \\sum_{k=1}^{K} z_{n k}\\left[\\log \\pi_{k}+\\log P\\left(x_{n}| z_{n}=k, \\theta\\right)\\right]\n",
    "\\end{aligned}\n",
    "$$\n",
    "We know\n",
    "$$\n",
    "\\begin{aligned}\n",
    "&P(x_{n}| z_{n}=k, \\theta) = P\\left(x_{n}| z_{n}=k,\\mu^2,\\sigma_{k}^2\\right) = N \\left(x_{n}|\\mu_{k},\\sigma_{k}^2\\right) \\\\\n",
    "&=\\frac{1}{(2\\pi)^{\\frac{d}{2}}\\sigma_k^d} \\operatorname{exp}(- \\frac{||x-\\mu_k||^2}{2 \\sigma_k^2})\n",
    "\\end{aligned}\n",
    "$$\n",
    "\n",
    "$$\n",
    "\\begin{aligned}\n",
    "&=\\sum_{n=1}^{N} \\sum_{k=1}^{K} z_{n k}[\\log \\pi_{k}+\\log \\frac{1}{(2 \\pi)^{\\frac{d}{2}}\\sigma_{k}^{d}} \\operatorname{exp}(\\frac{-\\|x_{n}-\\mu_k\\|^{2}}{2 \\sigma_{k^{2}}})] \\\\\\\\\n",
    " &=\\sum_{n=1}^{N} \\sum_{k=1}^{K} z_{n k}[\\log \\pi_{k}-\\frac{\\|x_{n}-\\mu_{k}\\|^{2}}{2 \\sigma_{k}{ }^{2}}-\\frac{d}{2} \\log (2 \\pi)-d \\log \\sigma_{k}]   ---Eqn 1\n",
    "\\end{aligned}\n",
    "$$\n",
    "$$\n",
    "$$\n",
    "Now Since we dont know the responsibilities, we estimate them in the 'ESTIMATION' step \n",
    "$$\n",
    "$$\n",
    "We compute conditional posterior $p(z / x, \\hat{\\theta})$ \n",
    "$$\n",
    "$$\n",
    "Since data points arc i.i.d, \n",
    "$$\n",
    "$$\n",
    "we compute Seperately for each $n$ . \n",
    "$$\n",
    "$$\n",
    "From Bayes theorem, \n",
    "$$\n",
    "$$\n",
    "$$\n",
    "\\begin{aligned}\n",
    "&P(z_n=k|x_n,\\hat\\theta) \\space \\operatorname{\\alpha} \\space P(z_n=k| \\hat\\theta)P(x_n|z_n=k,\\hat\\theta) \\\\\n",
    "\\end{aligned}\n",
    "$$\n",
    "$$\n",
    "$$\n",
    "$$\n",
    "\\begin{aligned}\n",
    " =\\pi_{k} N\\left(x_{n} | \\hat{\\mu}_{k}, \\hat{\\sigma}_{k}^{2}\\right) \\forall n, k \\\\\n",
    "\\end{aligned}\n",
    "$$\n",
    "$$\n",
    "$$\n",
    "$$\n",
    "\\begin{aligned}\n",
    "&E\\left[z_{n k}^{t}\\right]=\\frac{\\pi_{k} N\\left(x_{n} \\mid \\hat{\\mu}_{k}, \\hat{\\sigma}_{k}^{2}\\right)}{\\sum_{k=1}^{k} \\pi_{k} N\\left(x_n | \\hat{\\mu_{k}}, \\hat{\\sigma}_{k}^{2}\\right)} \\quad \\forall n, k \\\\\n",
    "\\end{aligned}\n",
    "$$\n",
    "$$\n",
    "$$\n",
    "Now as we estimated $z_{n k}, \\forall$ n, k we have to update $\\theta$ i.e $\\mu_{k}, \\sigma_{k}^{2}; \\space \\forall$  k to maximize the probability of observing all the data points i.e maximize equation (1) \n",
    "$$\n",
    "$$\n",
    "$$\n",
    "\\hat{\\theta}=\\operatorname{argmax}_{\\theta} \\sum_{n=1}^{N} \\sum_{k=1}^{K} z_{n k}\\left[\\log \\pi_{k}-\\frac{\\left\\|x_{n}-\\mu_{k}\\right\\|^{2}}{2 \\sigma_{k}^{2}}-\\frac{d}{2} \\log 2 \\pi-d \\log \\sigma_{k}\\right]\n",
    "$$\n",
    "$$\n",
    "$$\n",
    "To maximize $\\mu_{k}, \\sigma_{k}$, we individually do derivate wrt them.\n",
    "First, let us do for $\\mu_k$\n",
    "$$\n",
    "$$\n",
    "$$\n",
    "\\begin{aligned}\n",
    "\\frac{\\partial P(x, z / \\theta)}{\\partial \\mu_{k}} &=\\sum_{n=1}^{N} z_{n k}\\left[\\frac{2 *\\left(x_{n}-\\mu_{k}\\right)}{2  \\sigma_k^{2}}\\right] \\\\\n",
    "0 &=\\sum_{n=1}^{N} z_{n k} *\\left(x_{n}-\\mu_{k}\\right) \\\\\n",
    "&\\implies \\sum_{n=1}^{N} z_{n k} * \\mu_{k}=\\sum_{n=1}^{N} z_{n k} * x_{n}  \\\\\n",
    "\\mu_{k}=& \\frac{\\sum_{n=1}^{N} z_{n k} *x_n}{\\sum_{n=1}^{N} z_{nk}}; \\forall k\\\\\n",
    "\\text{Now let us do for } \\sigma_k, \\\\\n",
    "\\end{aligned}\n",
    "$$\n",
    "$$\n",
    "$$$$\n",
    "\\begin{aligned}\n",
    "\\frac{\\partial P(x, z / \\theta)}{\\partial \\sigma_{k}} &= \\sum_{n=1}^{N} z_{n k} \\left[\\frac{\\|x_n - \\mu_k\\|^2}{\\sigma_k^3} - \\frac{d}{\\sigma_k}\\right] \\\\\n",
    "& 0= \\sum_{n=1}^{N} z_{nk} * \\left[\\frac{\\|x_n - \\mu_k\\|^2}{\\sigma_k^2} - d \\right] \\\\\n",
    " & \\sum_{n=1}^{N} z_nk*d= \\sum_{n=1}^{N} z_{nk}*\\frac{\\|x_n - \\mu_k\\|^2}{\\sigma_k^2} \n",
    "\\end{aligned}\n",
    "$$\n",
    "$$\n",
    "\\begin{aligned}\n",
    "&d * \\sum_{n=1}^{N} z_{n k}=\\frac{1}{\\sigma_{k}{ }^{2}} \\sum_{n =1}^{N} z_{n k} *\\left\\|x_{n}-\\mu_{k}\\right\\|^{2} \\\\\n",
    "&\\sigma_{k}^{2}=\\frac{\\sum_{n=1}^{N} z_{n k} *\\left\\|x_{n}-\\mu_{k}\\right\\|^{2}}{d * \\sum_{n=1}^{N} z_{n k}}\n",
    "\\end{aligned}\n",
    "$$\n",
    "We dont need to update  $\\pi_{k}$ since it is given as fixed. \n",
    "$$\n",
    "$$\n",
    "So our final EM algoritim is\n",
    "$$\n",
    "$$\n",
    "$\\underline{E-step}:$\n",
    "$$\n",
    "\\begin{aligned}\n",
    "&z_{n k}^{(t+1)}=\\frac{\\pi_{k} N({x_n} | \\mu_{k}^{(t)}, \\sigma_{k}^{(t)^{2}} I_{d})}{\\sum_{k=1}^{K} \\pi_k N(x_n|\\mu_{k}^{(t)}, \\sigma_{k}^{(t)^{2}} I_{d})} \\quad; \\forall n, k\n",
    "\\end{aligned}\n",
    "$$\n",
    "$$\n",
    "$$\n",
    "$\\underline{M-step}:$ \n",
    "$$\n",
    "$$$$\n",
    "\\begin{aligned}\n",
    "&\\mu_{k}^{(t+1)}=\\frac{\\sum_{n=1}^{N} z_{nk}^{(t+1)}*x_n}{\\sum_{n=1}^{N} z_{nk}^{(t+1)}} , \\\\\n",
    "& \\\\\n",
    "&{\\sigma_{k}^{(t+1)}}^2=\\frac{\\sum_{n=1}^{N} z_{nk}^{(t+1)}*\\|x_n-\\mu_k^{(t+1)}\\|^2}{d*\\sum_{n=1}^{N} z_{nk}^{(t+1)}}\n",
    "\\end{aligned}\n",
    "$$"
   ]
  },
  {
   "cell_type": "code",
   "execution_count": null,
   "metadata": {},
   "outputs": [],
   "source": []
  },
  {
   "cell_type": "markdown",
   "metadata": {},
   "source": [
    "# 2b)"
   ]
  },
  {
   "cell_type": "code",
   "execution_count": 16,
   "metadata": {},
   "outputs": [],
   "source": [
    "from scipy.special import logsumexp\n",
    "from scipy import linalg, sparse\n",
    "import numpy.linalg as lin\n",
    "import numpy.random as rnd\n",
    "import pandas as pd"
   ]
  },
  {
   "cell_type": "code",
   "execution_count": 17,
   "metadata": {},
   "outputs": [],
   "source": [
    "# MAXIMIZATION STEP\n",
    "\n",
    "def maxm_step(log_resp):\n",
    "    \n",
    "    n_samples, _ = X.shape\n",
    "    \n",
    "    #MEANS AND COVARIANCES OF EACH CLUSTER\n",
    "    means, covariances = func_gaussian_parameters(np.exp(log_resp))\n",
    "    \n",
    "    # CHOLESKY PRECISIONS\n",
    "    precisions_cholesky= compute_precision_cholesky(covariances)\n",
    "    \n",
    "    return means,precisions_cholesky"
   ]
  },
  {
   "cell_type": "code",
   "execution_count": 18,
   "metadata": {},
   "outputs": [],
   "source": [
    "#RETURN LOG OF FIXED WEIGHTS\n",
    "def func_log_weights():\n",
    "    return np.log(fxd_wts)"
   ]
  },
  {
   "cell_type": "code",
   "execution_count": 19,
   "metadata": {},
   "outputs": [],
   "source": [
    "#CALCULATE LOG OF DETERMINANT OF CHOLESKY PRECISIONS\n",
    "def func_log_det_cholesky(matrix_chol, n_features):\n",
    "    log_det_chol = n_features * (np.log(matrix_chol))                   #NO OF FEATURES * LOG(CHOLESKY PRECISIONS)\n",
    "    return log_det_chol"
   ]
  },
  {
   "cell_type": "code",
   "execution_count": 20,
   "metadata": {},
   "outputs": [],
   "source": [
    "#CALCULATE THE LOG GAUSSIAN PROBABILITIES\n",
    "def func_log_gaussian_prob(means, precisions_chol):\n",
    "    n_samples, n_features = X.shape\n",
    "    num_comp, _ = means.shape\n",
    "    \n",
    "    log_det = func_log_det_cholesky(precisions_chol, n_features)\n",
    "    precisions = precisions_chol ** 2\n",
    "    log_prob = (np.sum(means ** 2, 1) * precisions- 2 * np.dot(X, means.T * precisions)+ np.outer(np.einsum(\"ij,ij->i\", X, X), precisions))\n",
    "    \n",
    "    # Since we are using the precision of the Cholesky decomposition,\n",
    "    # - 0.5 * log_det_precision` becomes `+ log_det_precision_chol\n",
    "    \n",
    "    return -0.5 * (n_features * np.log(2 * np.pi) + log_prob) + log_det"
   ]
  },
  {
   "cell_type": "code",
   "execution_count": 21,
   "metadata": {},
   "outputs": [],
   "source": [
    "#CALCULATE WEIGHTED LOG PROBABILITY\n",
    "def func_weighted_log_prob(means,precisions_cholesky):\n",
    "    \n",
    "    #weighted log probabilities=  log gaussian probabilities + log weights\n",
    "    return func_log_gaussian_prob(means,precisions_cholesky) + func_log_weights()"
   ]
  },
  {
   "cell_type": "code",
   "execution_count": 22,
   "metadata": {},
   "outputs": [],
   "source": [
    "#CALCULATE LOG RESPONSIBILITIES OF SAMPLES\n",
    "def func_log_prob_resp(means,precisions_cholesky):\n",
    "    \n",
    "    #weighted log probabilities\n",
    "    weighted_log_prob = func_weighted_log_prob(means,precisions_cholesky)\n",
    "    \n",
    "    #normalized log probabilities\n",
    "    log_prob_norm = logsumexp(weighted_log_prob, axis=1)\n",
    "    \n",
    "    #CALCULATING THE LOG RESPONSIBILITIES\n",
    "    with np.errstate(under=\"ignore\"):\n",
    "        # ignore underflow\n",
    "        log_resp = weighted_log_prob - log_prob_norm[:, np.newaxis]\n",
    "    \n",
    "    #returning normalized log probabilities,log responsibilities\n",
    "    return log_prob_norm, log_resp"
   ]
  },
  {
   "cell_type": "code",
   "execution_count": 23,
   "metadata": {},
   "outputs": [],
   "source": [
    "#function to do the estimation step\n",
    "def estm_step(means,precisions_cholesky):\n",
    "    \n",
    "    #LOG PROBABILITY NORMALIZED AND LOG RESPONSIBILITIES\n",
    "    log_prob_norm, log_resp = func_log_prob_resp(means,precisions_cholesky)\n",
    "    \n",
    "    # MEAN OF LOG PROBABILITY NORAMALIZED AND LOG RESPONSIBILITIES\n",
    "    return np.mean(log_prob_norm), log_resp"
   ]
  },
  {
   "cell_type": "code",
   "execution_count": 24,
   "metadata": {},
   "outputs": [],
   "source": [
    "#CHOLESKY PRECISIONS\n",
    "def compute_precision_cholesky(covariances):\n",
    "    \n",
    "    #if any covariance is found negative return error\n",
    "    if np.any(np.less_equal(covariances, 0.0)):\n",
    "        raise ValueError\n",
    "    \n",
    "    #colesky precisions\n",
    "    precisions_chol = 1.0 / np.sqrt(covariances)\n",
    "    \n",
    "    return precisions_chol"
   ]
  },
  {
   "cell_type": "code",
   "execution_count": 25,
   "metadata": {},
   "outputs": [],
   "source": [
    "#SPHERICAL COVARIANCE\n",
    "def covar(resp,nk,means):\n",
    "    n_c,n_f=means.shape\n",
    "    covar=np.empty((n_c,n_f,n_f))\n",
    "    spherical_cov=[]\n",
    "    \n",
    "    #for each cluster\n",
    "    for k in range(n_c):\n",
    "        \n",
    "        #calculating the full covariance\n",
    "        diff=X-means[k]\n",
    "        covar[k]=np.dot(resp[:,k]*diff.T,diff)/nk[k]\n",
    "        \n",
    "        #diagonal covariance and mean of diagonal elements to get the spherical covararince\n",
    "        s_co=np.diagonal(covar[k]*np.identity(2)).mean()\n",
    "        spherical_cov.append(s_co)\n",
    "        \n",
    "    spherical_cov=np.array(spherical_cov)\n",
    "    return spherical_cov"
   ]
  },
  {
   "cell_type": "code",
   "execution_count": 26,
   "metadata": {},
   "outputs": [],
   "source": [
    "#GAUSSIAN PARAMETERS OF EACH CLUSTER WITH GIVEN RESPONSIBILITIES\n",
    "def func_gaussian_parameters(resp):\n",
    "    \n",
    "    #NO OF POINTS IN EACH CLUSTER\n",
    "    nk = resp.sum(axis=0) + 10 * np.finfo(resp.dtype).eps\n",
    "    \n",
    "    #MEANS OF EACH CLUSTER\n",
    "    means = np.dot(resp.T, X) / nk[:, np.newaxis]\n",
    "    \n",
    "    #covariances of each cluster\n",
    "    covariances = covar(resp, nk, means)\n",
    "    return means, covariances"
   ]
  },
  {
   "cell_type": "code",
   "execution_count": 27,
   "metadata": {},
   "outputs": [],
   "source": [
    "def initialize_parameters():\n",
    "    \n",
    "    #NUMBER OF DATA POINTS\n",
    "    n_samples, _ = X.shape\n",
    "    \n",
    "    #ASSIGNING RESPONSIBILITES RANDOMLY \n",
    "    resp = np.random.rand(n_samples,num_comp)\n",
    "    \n",
    "    #NORMALIZING RESPONSIBILITIES\n",
    "    resp /= resp.sum(axis=1)[:, np.newaxis]\n",
    "    \n",
    "    #MEANS AND COVARIANCES OF EACH CLUSTER BASED ON RESPONSIBILITIES\n",
    "    means, covariances = func_gaussian_parameters(resp)\n",
    "    \n",
    "    #CHOLESKY PRECISIONS\n",
    "    precisions_cholesky = compute_precision_cholesky(covariances)\n",
    "    \n",
    "    return resp,means,precisions_cholesky"
   ]
  },
  {
   "cell_type": "code",
   "execution_count": 28,
   "metadata": {},
   "outputs": [],
   "source": [
    "def fit_predict(max_iter):\n",
    "    \n",
    "    n_samples, _ = X.shape\n",
    "    resp,means,precisions_cholesky=initialize_parameters()\n",
    "    lower_bound = -np.inf\n",
    "    tol=1e-5\n",
    "    for n_iter in range(1, max_iter + 1):\n",
    "        \n",
    "        #PREVIOUS ITERATIONS LOWER BOUND \n",
    "        prev_lower_bound = lower_bound\n",
    "        \n",
    "        #PERFORMING 'E' STEP\n",
    "        log_prob_norm, log_resp = estm_step(means,precisions_cholesky)\n",
    "        \n",
    "        #PERFORMING 'M' STEP\n",
    "        means,precisions_cholesky=maxm_step( log_resp)\n",
    "        \n",
    "        lower_bound = log_prob_norm\n",
    "        change = lower_bound - prev_lower_bound\n",
    "        \n",
    "        #TESTING CONVERGENCE\n",
    "        if abs(change) < tol:\n",
    "            converged = True\n",
    "            break\n",
    "    \n",
    "    #FINAL RESPONSIBILITIES OF EACH POINT\n",
    "    _, log_resp = estm_step(means,precisions_cholesky)\n",
    "    \n",
    "    return log_resp.argmax(axis=1)"
   ]
  },
  {
   "cell_type": "markdown",
   "metadata": {},
   "source": [
    "plot synthetic data"
   ]
  },
  {
   "cell_type": "code",
   "execution_count": 29,
   "metadata": {},
   "outputs": [],
   "source": [
    "def getFigure( sizex = 7, sizey = 7 ):\n",
    "    fig = plt.figure( figsize = (sizex, sizey) )\n",
    "    return fig"
   ]
  },
  {
   "cell_type": "code",
   "execution_count": 30,
   "metadata": {},
   "outputs": [],
   "source": [
    "def plot2D( X, fig, color = 'r', marker = '+', size = 100, empty = False ):\n",
    "    plt.figure( fig.number )\n",
    "    if empty:\n",
    "        plt.scatter( X[:,0], X[:,1], s = size, facecolors = 'none', edgecolors = color, marker = marker  )\n",
    "    else:\n",
    "        plt.scatter( X[:,0], X[:,1], s = size, c = color, marker = marker )"
   ]
  },
  {
   "cell_type": "code",
   "execution_count": 31,
   "metadata": {},
   "outputs": [],
   "source": [
    "def genSphericalData( d, n, mu, r ):\n",
    "    X = rnd.normal( 0, 1, (n, d) )\n",
    "    norms = lin.norm( X, axis = 1 )\n",
    "    X = X / norms[:, np.newaxis]\n",
    "    X = (X * r) + mu\n",
    "    return X"
   ]
  },
  {
   "cell_type": "code",
   "execution_count": 32,
   "metadata": {},
   "outputs": [],
   "source": [
    "global X,num_comp,fxd_wts"
   ]
  },
  {
   "cell_type": "markdown",
   "metadata": {},
   "source": [
    "GENERATING 3 CLUSTERE SYNTHETIC DATA"
   ]
  },
  {
   "cell_type": "code",
   "execution_count": 33,
   "metadata": {},
   "outputs": [
    {
     "data": {
      "image/png": "[encoded data removed]",
      "text/plain": [
       "<Figure size 576x576 with 1 Axes>"
      ]
     },
     "metadata": {
      "needs_background": "light"
     },
     "output_type": "display_data"
    }
   ],
   "source": [
    "d = 2\n",
    "n = 200\n",
    "\n",
    "mu1 = np.array( [0,0] )\n",
    "mu2= np.array( [3.5,3.5] )\n",
    "mu3=np.array([7,7])\n",
    "\n",
    "tmp1 = genSphericalData( d, n, mu1, 1.9 )\n",
    "tmp2=genSphericalData( d, n, mu2,2)\n",
    "tmp3 = genSphericalData( d, n, mu3, 1.9 )\n",
    "\n",
    "X = np.vstack( (tmp1, tmp2,tmp3) )\n",
    "\n",
    "#plotting generated data\n",
    "fig = getFigure( 8, 8 )\n",
    "plot2D( X, fig, size = 50, color = 'b', marker = 'o' )"
   ]
  },
  {
   "cell_type": "code",
   "execution_count": 34,
   "metadata": {},
   "outputs": [],
   "source": [
    "num_comp=3\n",
    "fxd_wts=np.array([0.33,0.33,0.33])"
   ]
  },
  {
   "cell_type": "code",
   "execution_count": 35,
   "metadata": {},
   "outputs": [],
   "source": [
    "# STORING IN A DATAFRAME\n",
    "df=pd.DataFrame(X)\n",
    "\n",
    "#ADDING LABEL COLUMN BY FIT PREDICT FUNCTION\n",
    "df['label']=fit_predict(max_iter=500)"
   ]
  },
  {
   "cell_type": "code",
   "execution_count": 36,
   "metadata": {},
   "outputs": [],
   "source": [
    "u_labels = np.unique(df['label'])"
   ]
  },
  {
   "cell_type": "code",
   "execution_count": 37,
   "metadata": {},
   "outputs": [
    {
     "data": {
      "image/png": "[encoded data removed]",
      "text/plain": [
       "<Figure size 576x576 with 1 Axes>"
      ]
     },
     "metadata": {
      "needs_background": "light"
     },
     "output_type": "display_data"
    }
   ],
   "source": [
    "#PLOTTING CLUSTERS\n",
    "fig = getFigure( 8, 8 )\n",
    "for i in u_labels:\n",
    "    plt.scatter(df[df['label'] == i].iloc[:,0],df[df['label'] == i].iloc[:,1],label = i)\n",
    "plt.legend()\n",
    "plt.show()"
   ]
  },
  {
   "cell_type": "markdown",
   "metadata": {},
   "source": [
    "#FINISHED"
   ]
  },
  {
   "cell_type": "code",
   "execution_count": null,
   "metadata": {},
   "outputs": [],
   "source": []
  },
  {
   "cell_type": "code",
   "execution_count": null,
   "metadata": {},
   "outputs": [],
   "source": []
  }
 ],
 "metadata": {
  "kernelspec": {
   "display_name": "Python 3",
   "language": "python",
   "name": "python3"
  },
  "language_info": {
   "codemirror_mode": {
    "name": "ipython",
    "version": 3
   },
   "file_extension": ".py",
   "mimetype": "text/x-python",
   "name": "python",
   "nbconvert_exporter": "python",
   "pygments_lexer": "ipython3",
   "version": "3.8.8"
  }
 },
 "nbformat": 4,
 "nbformat_minor": 4
}
